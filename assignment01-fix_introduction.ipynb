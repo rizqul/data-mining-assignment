{
 "cells": [
  {
   "cell_type": "code",
   "execution_count": 2,
   "metadata": {
    "collapsed": true
   },
   "outputs": [],
   "source": []
  },
  {
   "cell_type": "markdown",
   "source": [
    "## Tugas 01 - Data Mining\n",
    "##### A. Muhammad Risqullah - H071191053"
   ],
   "metadata": {
    "collapsed": false
   }
  },
  {
   "cell_type": "markdown",
   "source": [
    "Bike Buyers Dataset for Exploratory Data Analysis\n",
    "\n",
    "Dataset ini memiliki rincian 1000 pengguna dari berbagai latar belakang dan apakah mereka membeli sepeda atau tidak. Data ini dapat digunakan untuk model prediksi menggunakan Machine Learning Algorithms. Ada beberapa nilai NA yang disuntikkan dalam dataset. Gunakan kumpulan data ini untuk Pembersihan Data, Eksplorasi, dan Visualisasi. <br>\n",
    "hasil dari data ini adalah untuk bisa memprediksi apakah seseorang akan membeli sepeda berdasarkan beberapa latar belakang nya"
   ],
   "metadata": {
    "collapsed": false
   }
  },
  {
   "cell_type": "markdown",
   "source": [
    "**Penjelasan Atribut Data:**\n",
    "Data ini memiliki 13 atribut dan terbagi atas 3 type yaitu `int`, `float`, dan `object`. <br>\n",
    "\n",
    "1. ID(int) : memberi informasi tentang id pembelian costumer\n",
    "2. Marital Status(object) : menjelaskan tentang status pernikahan costumer\n",
    "3. Gender(object) : jenis kelamin costumer\n",
    "4. Income(float) : pendapatan dari costumer\n",
    "5. Children(float) : jumlah anak dari costumer\n",
    "6. Education(object) : jenjang pendidikan terakhir\n",
    "7. Occupation(object) : Pekerjaan\n",
    "8. Home Owner(object) : apakah costumer memiliki rumah atau tidak\n",
    "9. Cars(float) : jumlah mobil\n",
    "10. Commute Distance(float) : jarak yang ditempuh\n",
    "11. Region(object) : region tempat costumer\n",
    "12. Age(float) : umur dari costumer\n",
    "13. Purchased Bike(object) : apakah costumer membeli sepeda atau tidak"
   ],
   "metadata": {
    "collapsed": false,
    "pycharm": {
     "name": "#%% md\n"
    }
   }
  },
  {
   "cell_type": "code",
   "execution_count": 3,
   "outputs": [],
   "source": [
    "import pandas as pd\n",
    "import matplotlib.pyplot as plt\n",
    "import numpy as np\n",
    "import seaborn as sns"
   ],
   "metadata": {
    "collapsed": false,
    "pycharm": {
     "name": "#%%\n"
    }
   }
  },
  {
   "cell_type": "code",
   "execution_count": 4,
   "outputs": [
    {
     "name": "stdout",
     "output_type": "stream",
     "text": [
      "<class 'pandas.core.frame.DataFrame'>\n",
      "RangeIndex: 1000 entries, 0 to 999\n",
      "Data columns (total 13 columns):\n",
      " #   Column            Non-Null Count  Dtype  \n",
      "---  ------            --------------  -----  \n",
      " 0   ID                1000 non-null   int64  \n",
      " 1   Marital Status    993 non-null    object \n",
      " 2   Gender            989 non-null    object \n",
      " 3   Income            994 non-null    float64\n",
      " 4   Children          992 non-null    float64\n",
      " 5   Education         1000 non-null   object \n",
      " 6   Occupation        1000 non-null   object \n",
      " 7   Home Owner        996 non-null    object \n",
      " 8   Cars              991 non-null    float64\n",
      " 9   Commute Distance  1000 non-null   object \n",
      " 10  Region            1000 non-null   object \n",
      " 11  Age               992 non-null    float64\n",
      " 12  Purchased Bike    1000 non-null   object \n",
      "dtypes: float64(4), int64(1), object(8)\n",
      "memory usage: 101.7+ KB\n"
     ]
    },
    {
     "data": {
      "text/plain": "        ID Marital Status  Gender    Income  Children        Education  \\\n0    12496        Married  Female   40000.0       1.0        Bachelors   \n1    24107        Married    Male   30000.0       3.0  Partial College   \n2    14177        Married    Male   80000.0       5.0  Partial College   \n3    24381         Single     NaN   70000.0       0.0        Bachelors   \n4    25597         Single    Male   30000.0       0.0        Bachelors   \n..     ...            ...     ...       ...       ...              ...   \n995  23731        Married    Male   60000.0       2.0      High School   \n996  28672         Single    Male   70000.0       4.0  Graduate Degree   \n997  11809        Married     NaN   60000.0       2.0        Bachelors   \n998  19664         Single    Male  100000.0       3.0        Bachelors   \n999  12121         Single    Male   60000.0       3.0      High School   \n\n         Occupation Home Owner  Cars Commute Distance         Region   Age  \\\n0    Skilled Manual        Yes   0.0        0-1 Miles         Europe  42.0   \n1          Clerical        Yes   1.0        0-1 Miles         Europe  43.0   \n2      Professional         No   2.0        2-5 Miles         Europe  60.0   \n3      Professional        Yes   1.0       5-10 Miles        Pacific  41.0   \n4          Clerical         No   0.0        0-1 Miles         Europe  36.0   \n..              ...        ...   ...              ...            ...   ...   \n995    Professional        Yes   2.0        2-5 Miles  North America  54.0   \n996    Professional        Yes   0.0        2-5 Miles  North America  35.0   \n997  Skilled Manual        Yes   0.0        0-1 Miles  North America  38.0   \n998      Management         No   3.0        1-2 Miles  North America  38.0   \n999    Professional        Yes   2.0        10+ Miles  North America  53.0   \n\n    Purchased Bike  \n0               No  \n1               No  \n2               No  \n3              Yes  \n4              Yes  \n..             ...  \n995            Yes  \n996            Yes  \n997            Yes  \n998             No  \n999            Yes  \n\n[1000 rows x 13 columns]",
      "text/html": "<div>\n<style scoped>\n    .dataframe tbody tr th:only-of-type {\n        vertical-align: middle;\n    }\n\n    .dataframe tbody tr th {\n        vertical-align: top;\n    }\n\n    .dataframe thead th {\n        text-align: right;\n    }\n</style>\n<table border=\"1\" class=\"dataframe\">\n  <thead>\n    <tr style=\"text-align: right;\">\n      <th></th>\n      <th>ID</th>\n      <th>Marital Status</th>\n      <th>Gender</th>\n      <th>Income</th>\n      <th>Children</th>\n      <th>Education</th>\n      <th>Occupation</th>\n      <th>Home Owner</th>\n      <th>Cars</th>\n      <th>Commute Distance</th>\n      <th>Region</th>\n      <th>Age</th>\n      <th>Purchased Bike</th>\n    </tr>\n  </thead>\n  <tbody>\n    <tr>\n      <th>0</th>\n      <td>12496</td>\n      <td>Married</td>\n      <td>Female</td>\n      <td>40000.0</td>\n      <td>1.0</td>\n      <td>Bachelors</td>\n      <td>Skilled Manual</td>\n      <td>Yes</td>\n      <td>0.0</td>\n      <td>0-1 Miles</td>\n      <td>Europe</td>\n      <td>42.0</td>\n      <td>No</td>\n    </tr>\n    <tr>\n      <th>1</th>\n      <td>24107</td>\n      <td>Married</td>\n      <td>Male</td>\n      <td>30000.0</td>\n      <td>3.0</td>\n      <td>Partial College</td>\n      <td>Clerical</td>\n      <td>Yes</td>\n      <td>1.0</td>\n      <td>0-1 Miles</td>\n      <td>Europe</td>\n      <td>43.0</td>\n      <td>No</td>\n    </tr>\n    <tr>\n      <th>2</th>\n      <td>14177</td>\n      <td>Married</td>\n      <td>Male</td>\n      <td>80000.0</td>\n      <td>5.0</td>\n      <td>Partial College</td>\n      <td>Professional</td>\n      <td>No</td>\n      <td>2.0</td>\n      <td>2-5 Miles</td>\n      <td>Europe</td>\n      <td>60.0</td>\n      <td>No</td>\n    </tr>\n    <tr>\n      <th>3</th>\n      <td>24381</td>\n      <td>Single</td>\n      <td>NaN</td>\n      <td>70000.0</td>\n      <td>0.0</td>\n      <td>Bachelors</td>\n      <td>Professional</td>\n      <td>Yes</td>\n      <td>1.0</td>\n      <td>5-10 Miles</td>\n      <td>Pacific</td>\n      <td>41.0</td>\n      <td>Yes</td>\n    </tr>\n    <tr>\n      <th>4</th>\n      <td>25597</td>\n      <td>Single</td>\n      <td>Male</td>\n      <td>30000.0</td>\n      <td>0.0</td>\n      <td>Bachelors</td>\n      <td>Clerical</td>\n      <td>No</td>\n      <td>0.0</td>\n      <td>0-1 Miles</td>\n      <td>Europe</td>\n      <td>36.0</td>\n      <td>Yes</td>\n    </tr>\n    <tr>\n      <th>...</th>\n      <td>...</td>\n      <td>...</td>\n      <td>...</td>\n      <td>...</td>\n      <td>...</td>\n      <td>...</td>\n      <td>...</td>\n      <td>...</td>\n      <td>...</td>\n      <td>...</td>\n      <td>...</td>\n      <td>...</td>\n      <td>...</td>\n    </tr>\n    <tr>\n      <th>995</th>\n      <td>23731</td>\n      <td>Married</td>\n      <td>Male</td>\n      <td>60000.0</td>\n      <td>2.0</td>\n      <td>High School</td>\n      <td>Professional</td>\n      <td>Yes</td>\n      <td>2.0</td>\n      <td>2-5 Miles</td>\n      <td>North America</td>\n      <td>54.0</td>\n      <td>Yes</td>\n    </tr>\n    <tr>\n      <th>996</th>\n      <td>28672</td>\n      <td>Single</td>\n      <td>Male</td>\n      <td>70000.0</td>\n      <td>4.0</td>\n      <td>Graduate Degree</td>\n      <td>Professional</td>\n      <td>Yes</td>\n      <td>0.0</td>\n      <td>2-5 Miles</td>\n      <td>North America</td>\n      <td>35.0</td>\n      <td>Yes</td>\n    </tr>\n    <tr>\n      <th>997</th>\n      <td>11809</td>\n      <td>Married</td>\n      <td>NaN</td>\n      <td>60000.0</td>\n      <td>2.0</td>\n      <td>Bachelors</td>\n      <td>Skilled Manual</td>\n      <td>Yes</td>\n      <td>0.0</td>\n      <td>0-1 Miles</td>\n      <td>North America</td>\n      <td>38.0</td>\n      <td>Yes</td>\n    </tr>\n    <tr>\n      <th>998</th>\n      <td>19664</td>\n      <td>Single</td>\n      <td>Male</td>\n      <td>100000.0</td>\n      <td>3.0</td>\n      <td>Bachelors</td>\n      <td>Management</td>\n      <td>No</td>\n      <td>3.0</td>\n      <td>1-2 Miles</td>\n      <td>North America</td>\n      <td>38.0</td>\n      <td>No</td>\n    </tr>\n    <tr>\n      <th>999</th>\n      <td>12121</td>\n      <td>Single</td>\n      <td>Male</td>\n      <td>60000.0</td>\n      <td>3.0</td>\n      <td>High School</td>\n      <td>Professional</td>\n      <td>Yes</td>\n      <td>2.0</td>\n      <td>10+ Miles</td>\n      <td>North America</td>\n      <td>53.0</td>\n      <td>Yes</td>\n    </tr>\n  </tbody>\n</table>\n<p>1000 rows × 13 columns</p>\n</div>"
     },
     "execution_count": 4,
     "metadata": {},
     "output_type": "execute_result"
    }
   ],
   "source": [
    "dataframe = pd.read_csv(\"Datasets/bike_buyers.csv\")\n",
    "dataframe.info()\n",
    "dataframe"
   ],
   "metadata": {
    "collapsed": false,
    "pycharm": {
     "name": "#%%\n"
    }
   }
  },
  {
   "cell_type": "code",
   "execution_count": 20,
   "outputs": [
    {
     "data": {
      "text/plain": "                              Region\nRegion        Purchased Bike        \nEurope        No                 152\n              Yes                148\nNorth America No                 288\n              Yes                220\nPacific       No                  79\n              Yes                113",
      "text/html": "<div>\n<style scoped>\n    .dataframe tbody tr th:only-of-type {\n        vertical-align: middle;\n    }\n\n    .dataframe tbody tr th {\n        vertical-align: top;\n    }\n\n    .dataframe thead th {\n        text-align: right;\n    }\n</style>\n<table border=\"1\" class=\"dataframe\">\n  <thead>\n    <tr style=\"text-align: right;\">\n      <th></th>\n      <th></th>\n      <th>Region</th>\n    </tr>\n    <tr>\n      <th>Region</th>\n      <th>Purchased Bike</th>\n      <th></th>\n    </tr>\n  </thead>\n  <tbody>\n    <tr>\n      <th rowspan=\"2\" valign=\"top\">Europe</th>\n      <th>No</th>\n      <td>152</td>\n    </tr>\n    <tr>\n      <th>Yes</th>\n      <td>148</td>\n    </tr>\n    <tr>\n      <th rowspan=\"2\" valign=\"top\">North America</th>\n      <th>No</th>\n      <td>288</td>\n    </tr>\n    <tr>\n      <th>Yes</th>\n      <td>220</td>\n    </tr>\n    <tr>\n      <th rowspan=\"2\" valign=\"top\">Pacific</th>\n      <th>No</th>\n      <td>79</td>\n    </tr>\n    <tr>\n      <th>Yes</th>\n      <td>113</td>\n    </tr>\n  </tbody>\n</table>\n</div>"
     },
     "execution_count": 20,
     "metadata": {},
     "output_type": "execute_result"
    }
   ],
   "source": [
    "dataframe.groupby(['Region', 'Purchased Bike']).agg({'Region':'count'})"
   ],
   "metadata": {
    "collapsed": false,
    "pycharm": {
     "name": "#%%\n"
    }
   }
  },
  {
   "cell_type": "markdown",
   "source": [
    "### Pembelian Sepeda berdasarkan regional\n",
    "Berdasarkan tabel diatas penduduk pada regional pacific lebih banyak yang membeli sepeda daripada yang tidak.\n",
    "Sedangkan untuk kedua regional lain terjadi sebaliknya dimana lebih banyak yang tidak beli sepeda daripada yang beli.\n",
    "ini mungkin disebabkan oleh kondisi iklim dari regional tersebut."
   ],
   "metadata": {
    "collapsed": false,
    "pycharm": {
     "name": "#%% md\n"
    }
   }
  },
  {
   "cell_type": "code",
   "execution_count": 22,
   "outputs": [
    {
     "data": {
      "text/plain": "                               Occupation\nOccupation     Purchased Bike            \nClerical       No                      89\n               Yes                     88\nManagement     No                     100\n               Yes                     73\nManual         No                      64\n               Yes                     55\nProfessional   No                     126\n               Yes                    150\nSkilled Manual No                     140\n               Yes                    115",
      "text/html": "<div>\n<style scoped>\n    .dataframe tbody tr th:only-of-type {\n        vertical-align: middle;\n    }\n\n    .dataframe tbody tr th {\n        vertical-align: top;\n    }\n\n    .dataframe thead th {\n        text-align: right;\n    }\n</style>\n<table border=\"1\" class=\"dataframe\">\n  <thead>\n    <tr style=\"text-align: right;\">\n      <th></th>\n      <th></th>\n      <th>Occupation</th>\n    </tr>\n    <tr>\n      <th>Occupation</th>\n      <th>Purchased Bike</th>\n      <th></th>\n    </tr>\n  </thead>\n  <tbody>\n    <tr>\n      <th rowspan=\"2\" valign=\"top\">Clerical</th>\n      <th>No</th>\n      <td>89</td>\n    </tr>\n    <tr>\n      <th>Yes</th>\n      <td>88</td>\n    </tr>\n    <tr>\n      <th rowspan=\"2\" valign=\"top\">Management</th>\n      <th>No</th>\n      <td>100</td>\n    </tr>\n    <tr>\n      <th>Yes</th>\n      <td>73</td>\n    </tr>\n    <tr>\n      <th rowspan=\"2\" valign=\"top\">Manual</th>\n      <th>No</th>\n      <td>64</td>\n    </tr>\n    <tr>\n      <th>Yes</th>\n      <td>55</td>\n    </tr>\n    <tr>\n      <th rowspan=\"2\" valign=\"top\">Professional</th>\n      <th>No</th>\n      <td>126</td>\n    </tr>\n    <tr>\n      <th>Yes</th>\n      <td>150</td>\n    </tr>\n    <tr>\n      <th rowspan=\"2\" valign=\"top\">Skilled Manual</th>\n      <th>No</th>\n      <td>140</td>\n    </tr>\n    <tr>\n      <th>Yes</th>\n      <td>115</td>\n    </tr>\n  </tbody>\n</table>\n</div>"
     },
     "execution_count": 22,
     "metadata": {},
     "output_type": "execute_result"
    }
   ],
   "source": [
    "dataframe['Occupation'].value_counts()\n",
    "dataframe.groupby(['Occupation', 'Purchased Bike']).agg({'Occupation':'count'})\n"
   ],
   "metadata": {
    "collapsed": false,
    "pycharm": {
     "name": "#%%\n"
    }
   }
  },
  {
   "cell_type": "markdown",
   "source": [
    "### Pembelian sepeda berdasarkan pekerejaan\n",
    "dari tabel di setiap class pada atribut occupation hampir semua lebih banyak yang membeli sepeda."
   ],
   "metadata": {
    "collapsed": false,
    "pycharm": {
     "name": "#%% md\n"
    }
   }
  },
  {
   "cell_type": "code",
   "execution_count": 5,
   "outputs": [
    {
     "data": {
      "text/plain": "array([[<AxesSubplot:title={'center':'ID'}>,\n        <AxesSubplot:title={'center':'Income'}>],\n       [<AxesSubplot:title={'center':'Children'}>,\n        <AxesSubplot:title={'center':'Cars'}>],\n       [<AxesSubplot:title={'center':'Age'}>, <AxesSubplot:>]],\n      dtype=object)"
     },
     "execution_count": 5,
     "metadata": {},
     "output_type": "execute_result"
    },
    {
     "data": {
      "text/plain": "<Figure size 432x288 with 6 Axes>",
      "image/png": "[encoded data removed]"
     },
     "metadata": {
      "needs_background": "light"
     },
     "output_type": "display_data"
    }
   ],
   "source": [
    "dataframe.hist()"
   ],
   "metadata": {
    "collapsed": false,
    "pycharm": {
     "name": "#%%\n"
    }
   }
  },
  {
   "cell_type": "code",
   "execution_count": 6,
   "outputs": [
    {
     "data": {
      "text/plain": "                 ID         Income    Children        Cars         Age\ncount   1000.000000     994.000000  992.000000  991.000000  992.000000\nmean   19965.992000   56267.605634    1.910282    1.455096   44.181452\nstd     5347.333948   31067.817462    1.626910    1.121755   11.362007\nmin    11000.000000   10000.000000    0.000000    0.000000   25.000000\n25%    15290.750000   30000.000000    0.000000    1.000000   35.000000\n50%    19744.000000   60000.000000    2.000000    1.000000   43.000000\n75%    24470.750000   70000.000000    3.000000    2.000000   52.000000\nmax    29447.000000  170000.000000    5.000000    4.000000   89.000000",
      "text/html": "<div>\n<style scoped>\n    .dataframe tbody tr th:only-of-type {\n        vertical-align: middle;\n    }\n\n    .dataframe tbody tr th {\n        vertical-align: top;\n    }\n\n    .dataframe thead th {\n        text-align: right;\n    }\n</style>\n<table border=\"1\" class=\"dataframe\">\n  <thead>\n    <tr style=\"text-align: right;\">\n      <th></th>\n      <th>ID</th>\n      <th>Income</th>\n      <th>Children</th>\n      <th>Cars</th>\n      <th>Age</th>\n    </tr>\n  </thead>\n  <tbody>\n    <tr>\n      <th>count</th>\n      <td>1000.000000</td>\n      <td>994.000000</td>\n      <td>992.000000</td>\n      <td>991.000000</td>\n      <td>992.000000</td>\n    </tr>\n    <tr>\n      <th>mean</th>\n      <td>19965.992000</td>\n      <td>56267.605634</td>\n      <td>1.910282</td>\n      <td>1.455096</td>\n      <td>44.181452</td>\n    </tr>\n    <tr>\n      <th>std</th>\n      <td>5347.333948</td>\n      <td>31067.817462</td>\n      <td>1.626910</td>\n      <td>1.121755</td>\n      <td>11.362007</td>\n    </tr>\n    <tr>\n      <th>min</th>\n      <td>11000.000000</td>\n      <td>10000.000000</td>\n      <td>0.000000</td>\n      <td>0.000000</td>\n      <td>25.000000</td>\n    </tr>\n    <tr>\n      <th>25%</th>\n      <td>15290.750000</td>\n      <td>30000.000000</td>\n      <td>0.000000</td>\n      <td>1.000000</td>\n      <td>35.000000</td>\n    </tr>\n    <tr>\n      <th>50%</th>\n      <td>19744.000000</td>\n      <td>60000.000000</td>\n      <td>2.000000</td>\n      <td>1.000000</td>\n      <td>43.000000</td>\n    </tr>\n    <tr>\n      <th>75%</th>\n      <td>24470.750000</td>\n      <td>70000.000000</td>\n      <td>3.000000</td>\n      <td>2.000000</td>\n      <td>52.000000</td>\n    </tr>\n    <tr>\n      <th>max</th>\n      <td>29447.000000</td>\n      <td>170000.000000</td>\n      <td>5.000000</td>\n      <td>4.000000</td>\n      <td>89.000000</td>\n    </tr>\n  </tbody>\n</table>\n</div>"
     },
     "execution_count": 6,
     "metadata": {},
     "output_type": "execute_result"
    }
   ],
   "source": [
    "dataframe.describe()"
   ],
   "metadata": {
    "collapsed": false,
    "pycharm": {
     "name": "#%%\n"
    }
   }
  },
  {
   "cell_type": "markdown",
   "source": [
    "## conclusion :\n",
    "Dari data diatas kita dapat mengeahui beberapa informasi. misal seperti rata-rata pendapatan pembel sepeda berkisaran 56,000. <br>\n",
    "informasi penting lain rata-rata pembeli sepeda berumur 44 tahun, dan masih banyak info yg kita dapatkan dari data diatas\n",
    "\n"
   ],
   "metadata": {
    "collapsed": false
   }
  }
 ],
 "metadata": {
  "kernelspec": {
   "display_name": "Python 3",
   "language": "python",
   "name": "python3"
  },
  "language_info": {
   "codemirror_mode": {
    "name": "ipython",
    "version": 2
   },
   "file_extension": ".py",
   "mimetype": "text/x-python",
   "name": "python",
   "nbconvert_exporter": "python",
   "pygments_lexer": "ipython2",
   "version": "2.7.6"
  }
 },
 "nbformat": 4,
 "nbformat_minor": 0
}