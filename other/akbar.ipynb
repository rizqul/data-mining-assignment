{
 "cells": [
  {
   "cell_type": "code",
   "execution_count": 4,
   "metadata": {
    "collapsed": true
   },
   "outputs": [],
   "source": [
    "import pandas as pd\n",
    "from matplotlib import pyplot"
   ]
  },
  {
   "cell_type": "code",
   "execution_count": 5,
   "outputs": [
    {
     "data": {
      "text/plain": "        151603712  The Elder Scrolls V Skyrim  purchase    1.0  0\n0       151603712  The Elder Scrolls V Skyrim      play  273.0  0\n1       151603712                   Fallout 4  purchase    1.0  0\n2       151603712                   Fallout 4      play   87.0  0\n3       151603712                       Spore  purchase    1.0  0\n4       151603712                       Spore      play   14.9  0\n...           ...                         ...       ...    ... ..\n199994  128470551                 Titan Souls      play    1.5  0\n199995  128470551  Grand Theft Auto Vice City  purchase    1.0  0\n199996  128470551  Grand Theft Auto Vice City      play    1.5  0\n199997  128470551                        RUSH  purchase    1.0  0\n199998  128470551                        RUSH      play    1.4  0\n\n[199999 rows x 5 columns]",
      "text/html": "<div>\n<style scoped>\n    .dataframe tbody tr th:only-of-type {\n        vertical-align: middle;\n    }\n\n    .dataframe tbody tr th {\n        vertical-align: top;\n    }\n\n    .dataframe thead th {\n        text-align: right;\n    }\n</style>\n<table border=\"1\" class=\"dataframe\">\n  <thead>\n    <tr style=\"text-align: right;\">\n      <th></th>\n      <th>151603712</th>\n      <th>The Elder Scrolls V Skyrim</th>\n      <th>purchase</th>\n      <th>1.0</th>\n      <th>0</th>\n    </tr>\n  </thead>\n  <tbody>\n    <tr>\n      <th>0</th>\n      <td>151603712</td>\n      <td>The Elder Scrolls V Skyrim</td>\n      <td>play</td>\n      <td>273.0</td>\n      <td>0</td>\n    </tr>\n    <tr>\n      <th>1</th>\n      <td>151603712</td>\n      <td>Fallout 4</td>\n      <td>purchase</td>\n      <td>1.0</td>\n      <td>0</td>\n    </tr>\n    <tr>\n      <th>2</th>\n      <td>151603712</td>\n      <td>Fallout 4</td>\n      <td>play</td>\n      <td>87.0</td>\n      <td>0</td>\n    </tr>\n    <tr>\n      <th>3</th>\n      <td>151603712</td>\n      <td>Spore</td>\n      <td>purchase</td>\n      <td>1.0</td>\n      <td>0</td>\n    </tr>\n    <tr>\n      <th>4</th>\n      <td>151603712</td>\n      <td>Spore</td>\n      <td>play</td>\n      <td>14.9</td>\n      <td>0</td>\n    </tr>\n    <tr>\n      <th>...</th>\n      <td>...</td>\n      <td>...</td>\n      <td>...</td>\n      <td>...</td>\n      <td>...</td>\n    </tr>\n    <tr>\n      <th>199994</th>\n      <td>128470551</td>\n      <td>Titan Souls</td>\n      <td>play</td>\n      <td>1.5</td>\n      <td>0</td>\n    </tr>\n    <tr>\n      <th>199995</th>\n      <td>128470551</td>\n      <td>Grand Theft Auto Vice City</td>\n      <td>purchase</td>\n      <td>1.0</td>\n      <td>0</td>\n    </tr>\n    <tr>\n      <th>199996</th>\n      <td>128470551</td>\n      <td>Grand Theft Auto Vice City</td>\n      <td>play</td>\n      <td>1.5</td>\n      <td>0</td>\n    </tr>\n    <tr>\n      <th>199997</th>\n      <td>128470551</td>\n      <td>RUSH</td>\n      <td>purchase</td>\n      <td>1.0</td>\n      <td>0</td>\n    </tr>\n    <tr>\n      <th>199998</th>\n      <td>128470551</td>\n      <td>RUSH</td>\n      <td>play</td>\n      <td>1.4</td>\n      <td>0</td>\n    </tr>\n  </tbody>\n</table>\n<p>199999 rows × 5 columns</p>\n</div>"
     },
     "execution_count": 5,
     "metadata": {},
     "output_type": "execute_result"
    }
   ],
   "source": [
    "data = pd.read_csv(\"Datasets/steam-200k.csv\")\n",
    "data"
   ],
   "metadata": {
    "collapsed": false,
    "pycharm": {
     "name": "#%%\n"
    }
   }
  },
  {
   "cell_type": "code",
   "execution_count": 6,
   "outputs": [
    {
     "data": {
      "text/plain": "array([[<AxesSubplot:title={'center':'151603712'}>,\n        <AxesSubplot:title={'center':'1.0'}>],\n       [<AxesSubplot:title={'center':'0'}>, <AxesSubplot:>]], dtype=object)"
     },
     "execution_count": 6,
     "metadata": {},
     "output_type": "execute_result"
    },
    {
     "data": {
      "text/plain": "<Figure size 432x288 with 4 Axes>",
      "image/png": "[encoded data removed]"
     },
     "metadata": {
      "needs_background": "light"
     },
     "output_type": "display_data"
    }
   ],
   "source": [
    "data.hist()"
   ],
   "metadata": {
    "collapsed": false,
    "pycharm": {
     "name": "#%%\n"
    }
   }
  },
  {
   "cell_type": "code",
   "execution_count": 7,
   "outputs": [
    {
     "data": {
      "text/plain": "          151603712            1.0         0\ncount  1.999990e+05  199999.000000  199999.0\nmean   1.036556e+08      17.874468       0.0\nstd    7.208084e+07     138.057292       0.0\nmin    5.250000e+03       0.100000       0.0\n25%    4.738420e+07       1.000000       0.0\n50%    8.691201e+07       1.000000       0.0\n75%    1.542309e+08       1.300000       0.0\nmax    3.099031e+08   11754.000000       0.0",
      "text/html": "<div>\n<style scoped>\n    .dataframe tbody tr th:only-of-type {\n        vertical-align: middle;\n    }\n\n    .dataframe tbody tr th {\n        vertical-align: top;\n    }\n\n    .dataframe thead th {\n        text-align: right;\n    }\n</style>\n<table border=\"1\" class=\"dataframe\">\n  <thead>\n    <tr style=\"text-align: right;\">\n      <th></th>\n      <th>151603712</th>\n      <th>1.0</th>\n      <th>0</th>\n    </tr>\n  </thead>\n  <tbody>\n    <tr>\n      <th>count</th>\n      <td>1.999990e+05</td>\n      <td>199999.000000</td>\n      <td>199999.0</td>\n    </tr>\n    <tr>\n      <th>mean</th>\n      <td>1.036556e+08</td>\n      <td>17.874468</td>\n      <td>0.0</td>\n    </tr>\n    <tr>\n      <th>std</th>\n      <td>7.208084e+07</td>\n      <td>138.057292</td>\n      <td>0.0</td>\n    </tr>\n    <tr>\n      <th>min</th>\n      <td>5.250000e+03</td>\n      <td>0.100000</td>\n      <td>0.0</td>\n    </tr>\n    <tr>\n      <th>25%</th>\n      <td>4.738420e+07</td>\n      <td>1.000000</td>\n      <td>0.0</td>\n    </tr>\n    <tr>\n      <th>50%</th>\n      <td>8.691201e+07</td>\n      <td>1.000000</td>\n      <td>0.0</td>\n    </tr>\n    <tr>\n      <th>75%</th>\n      <td>1.542309e+08</td>\n      <td>1.300000</td>\n      <td>0.0</td>\n    </tr>\n    <tr>\n      <th>max</th>\n      <td>3.099031e+08</td>\n      <td>11754.000000</td>\n      <td>0.0</td>\n    </tr>\n  </tbody>\n</table>\n</div>"
     },
     "execution_count": 7,
     "metadata": {},
     "output_type": "execute_result"
    }
   ],
   "source": [
    "data.describe()"
   ],
   "metadata": {
    "collapsed": false,
    "pycharm": {
     "name": "#%%\n"
    }
   }
  }
 ],
 "metadata": {
  "kernelspec": {
   "display_name": "Python 3",
   "language": "python",
   "name": "python3"
  },
  "language_info": {
   "codemirror_mode": {
    "name": "ipython",
    "version": 2
   },
   "file_extension": ".py",
   "mimetype": "text/x-python",
   "name": "python",
   "nbconvert_exporter": "python",
   "pygments_lexer": "ipython2",
   "version": "2.7.6"
  }
 },
 "nbformat": 4,
 "nbformat_minor": 0
}