{
 "cells": [
  {
   "cell_type": "code",
   "execution_count": 49,
   "metadata": {
    "collapsed": true
   },
   "outputs": [],
   "source": [
    "import numpy as np\n",
    "import pandas as pd\n",
    "import matplotlib.pyplot as plt\n",
    "from sklearn import preprocessing\n",
    "from sklearn.preprocessing import LabelEncoder"
   ]
  },
  {
   "cell_type": "code",
   "execution_count": 50,
   "outputs": [],
   "source": [
    "#Menggabungkan dua dataset\n",
    "\n",
    "data1 = pd.read_csv('Datasets/Final/train.csv')\n",
    "data2 = pd.read_csv('Datasets/Final/test.csv')\n",
    "frames = [data1, data2]\n",
    "data = pd.concat(frames).drop_duplicates().reset_index(drop=True)\n",
    "# result.to_csv(r'data.csv', index=False)"
   ],
   "metadata": {
    "collapsed": false,
    "pycharm": {
     "name": "#%%\n"
    }
   }
  },
  {
   "cell_type": "code",
   "execution_count": 51,
   "outputs": [],
   "source": [
    "data = pd.read_csv('Datasets/Final/train.csv')"
   ],
   "metadata": {
    "collapsed": false,
    "pycharm": {
     "name": "#%%\n"
    }
   }
  },
  {
   "cell_type": "markdown",
   "source": [
    "# Pre-processing"
   ],
   "metadata": {
    "collapsed": false,
    "pycharm": {
     "name": "#%% md\n"
    }
   }
  },
  {
   "cell_type": "code",
   "execution_count": 52,
   "outputs": [
    {
     "data": {
      "text/plain": "Unnamed: 0                  0\ngender                      0\ndate_of_birth               0\nworkclass                   0\neducation_level             0\neducation_num               0\nmarital_status              0\noccupation                  0\nrelationship                0\ncapital_gain                0\ncapital_loss                0\nhours_per_week              0\napproved                    0\naddress                     0\nemail                       0\ninquiry_purpose_code      917\ninstitute_type              0\naccount_type                0\nasset_class_cd          25008\nasset_code                 63\nportfolio_type              3\ndtype: int64"
     },
     "execution_count": 52,
     "metadata": {},
     "output_type": "execute_result"
    }
   ],
   "source": [
    "data.isnull().sum()"
   ],
   "metadata": {
    "collapsed": false,
    "pycharm": {
     "name": "#%%\n"
    }
   }
  },
  {
   "cell_type": "code",
   "execution_count": 53,
   "outputs": [
    {
     "data": {
      "text/plain": "     gender          workclass education_level  education_num  \\\n0    Female          Local-gov         HS-grad            9.0   \n1      Male            Private       Assoc-voc           11.0   \n2    Female            Private       Assoc-voc           11.0   \n3      Male          Local-gov    Some-college           10.0   \n4    Female   Self-emp-not-inc       Bachelors           13.0   \n5      Male   Self-emp-not-inc         HS-grad            9.0   \n6      Male       Self-emp-inc         Masters           14.0   \n7    Female            Private    Some-college           10.0   \n8    Female            Private       Bachelors           13.0   \n9    Female          State-gov       Bachelors           13.0   \n10     Male            Private         HS-grad            9.0   \n11     Male            Private            11th            7.0   \n12     Male            Private    Some-college           10.0   \n13     Male            Private         HS-grad            9.0   \n14     Male            Private         HS-grad            9.0   \n15   Female          Local-gov            10th            6.0   \n16     Male            Private       Bachelors           13.0   \n17     Male            Private       Bachelors           13.0   \n18   Female          State-gov    Some-college           10.0   \n19     Male            Private      Assoc-acdm           12.0   \n\n         marital_status          occupation     relationship  capital_gain  \\\n0               Widowed        Adm-clerical    Not-in-family           0.0   \n1    Married-civ-spouse   Machine-op-inspct          Husband           0.0   \n2         Never-married     Priv-house-serv    Not-in-family           0.0   \n3               Widowed     Exec-managerial    Not-in-family        6849.0   \n4    Married-civ-spouse      Prof-specialty   Other-relative           0.0   \n5    Married-civ-spouse               Sales          Husband           0.0   \n6    Married-civ-spouse               Sales          Husband           0.0   \n7    Married-civ-spouse               Sales             Wife           0.0   \n8    Married-civ-spouse      Prof-specialty             Wife           0.0   \n9         Never-married        Adm-clerical    Not-in-family           0.0   \n10        Never-married       Other-service        Own-child           0.0   \n11   Married-civ-spouse     Protective-serv          Husband           0.0   \n12             Divorced               Sales    Not-in-family           0.0   \n13   Married-civ-spouse    Transport-moving          Husband           0.0   \n14              Widowed        Craft-repair        Unmarried           0.0   \n15        Never-married     Protective-serv        Own-child           0.0   \n16   Married-civ-spouse        Craft-repair          Husband           0.0   \n17        Never-married     Exec-managerial        Own-child        2202.0   \n18        Never-married        Adm-clerical    Not-in-family           0.0   \n19        Never-married     Exec-managerial    Not-in-family           0.0   \n\n    capital_loss  hours_per_week  approved  inquiry_purpose_code  \\\n0            0.0            12.0         0                  16.0   \n1            0.0            20.0         0                   2.0   \n2            0.0            30.0         0                  13.0   \n3            0.0            40.0         0                  16.0   \n4            0.0            20.0         1                  99.0   \n5            0.0            40.0         0                  13.0   \n6            0.0            48.0         1                  99.0   \n7            0.0            35.0         0                  13.0   \n8            0.0            90.0         1                  99.0   \n9            0.0            40.0         0                  16.0   \n10           0.0            40.0         0                  99.0   \n11           0.0            40.0         0                  13.0   \n12           0.0            40.0         0                  99.0   \n13           0.0            30.0         0                  99.0   \n14           0.0            40.0         0                  13.0   \n15           0.0             6.0         0                   2.0   \n16           0.0            40.0         1                   7.0   \n17           0.0             4.0         0                  13.0   \n18           0.0            38.0         0                   2.0   \n19           0.0            38.0         0                   6.0   \n\n   institute_type  account_type asset_class_cd  asset_code portfolio_type  \n0             NBF             5              0         1.0              R  \n1             PUB            47              S         1.0              I  \n2             PVT           189              0         1.0              I  \n3             NBF             5              0         1.0              R  \n4             BRO             5              0         1.0              R  \n5             NBF           184              S         1.0              I  \n6             PVT             5              0         1.0              R  \n7             NBF             5              0         1.0              R  \n8             PVT             5              0         1.0              R  \n9             PVT             5              0         1.0              R  \n10            PVT             5              0         1.0              R  \n11            NBF           189              0         1.0              I  \n12            PVT             5              0         1.0              R  \n13            PVT             5              0         1.0              R  \n14            PVT             5              0         1.0              R  \n15            NBF           189              S         1.0              I  \n16            PVT             5              0         1.0              R  \n17            PVT             5              0         1.0              R  \n18            NBF           189              S         1.0              I  \n19            PVT             5              0         1.0              R  ",
      "text/html": "<div>\n<style scoped>\n    .dataframe tbody tr th:only-of-type {\n        vertical-align: middle;\n    }\n\n    .dataframe tbody tr th {\n        vertical-align: top;\n    }\n\n    .dataframe thead th {\n        text-align: right;\n    }\n</style>\n<table border=\"1\" class=\"dataframe\">\n  <thead>\n    <tr style=\"text-align: right;\">\n      <th></th>\n      <th>gender</th>\n      <th>workclass</th>\n      <th>education_level</th>\n      <th>education_num</th>\n      <th>marital_status</th>\n      <th>occupation</th>\n      <th>relationship</th>\n      <th>capital_gain</th>\n      <th>capital_loss</th>\n      <th>hours_per_week</th>\n      <th>approved</th>\n      <th>inquiry_purpose_code</th>\n      <th>institute_type</th>\n      <th>account_type</th>\n      <th>asset_class_cd</th>\n      <th>asset_code</th>\n      <th>portfolio_type</th>\n    </tr>\n  </thead>\n  <tbody>\n    <tr>\n      <th>0</th>\n      <td>Female</td>\n      <td>Local-gov</td>\n      <td>HS-grad</td>\n      <td>9.0</td>\n      <td>Widowed</td>\n      <td>Adm-clerical</td>\n      <td>Not-in-family</td>\n      <td>0.0</td>\n      <td>0.0</td>\n      <td>12.0</td>\n      <td>0</td>\n      <td>16.0</td>\n      <td>NBF</td>\n      <td>5</td>\n      <td>0</td>\n      <td>1.0</td>\n      <td>R</td>\n    </tr>\n    <tr>\n      <th>1</th>\n      <td>Male</td>\n      <td>Private</td>\n      <td>Assoc-voc</td>\n      <td>11.0</td>\n      <td>Married-civ-spouse</td>\n      <td>Machine-op-inspct</td>\n      <td>Husband</td>\n      <td>0.0</td>\n      <td>0.0</td>\n      <td>20.0</td>\n      <td>0</td>\n      <td>2.0</td>\n      <td>PUB</td>\n      <td>47</td>\n      <td>S</td>\n      <td>1.0</td>\n      <td>I</td>\n    </tr>\n    <tr>\n      <th>2</th>\n      <td>Female</td>\n      <td>Private</td>\n      <td>Assoc-voc</td>\n      <td>11.0</td>\n      <td>Never-married</td>\n      <td>Priv-house-serv</td>\n      <td>Not-in-family</td>\n      <td>0.0</td>\n      <td>0.0</td>\n      <td>30.0</td>\n      <td>0</td>\n      <td>13.0</td>\n      <td>PVT</td>\n      <td>189</td>\n      <td>0</td>\n      <td>1.0</td>\n      <td>I</td>\n    </tr>\n    <tr>\n      <th>3</th>\n      <td>Male</td>\n      <td>Local-gov</td>\n      <td>Some-college</td>\n      <td>10.0</td>\n      <td>Widowed</td>\n      <td>Exec-managerial</td>\n      <td>Not-in-family</td>\n      <td>6849.0</td>\n      <td>0.0</td>\n      <td>40.0</td>\n      <td>0</td>\n      <td>16.0</td>\n      <td>NBF</td>\n      <td>5</td>\n      <td>0</td>\n      <td>1.0</td>\n      <td>R</td>\n    </tr>\n    <tr>\n      <th>4</th>\n      <td>Female</td>\n      <td>Self-emp-not-inc</td>\n      <td>Bachelors</td>\n      <td>13.0</td>\n      <td>Married-civ-spouse</td>\n      <td>Prof-specialty</td>\n      <td>Other-relative</td>\n      <td>0.0</td>\n      <td>0.0</td>\n      <td>20.0</td>\n      <td>1</td>\n      <td>99.0</td>\n      <td>BRO</td>\n      <td>5</td>\n      <td>0</td>\n      <td>1.0</td>\n      <td>R</td>\n    </tr>\n    <tr>\n      <th>5</th>\n      <td>Male</td>\n      <td>Self-emp-not-inc</td>\n      <td>HS-grad</td>\n      <td>9.0</td>\n      <td>Married-civ-spouse</td>\n      <td>Sales</td>\n      <td>Husband</td>\n      <td>0.0</td>\n      <td>0.0</td>\n      <td>40.0</td>\n      <td>0</td>\n      <td>13.0</td>\n      <td>NBF</td>\n      <td>184</td>\n      <td>S</td>\n      <td>1.0</td>\n      <td>I</td>\n    </tr>\n    <tr>\n      <th>6</th>\n      <td>Male</td>\n      <td>Self-emp-inc</td>\n      <td>Masters</td>\n      <td>14.0</td>\n      <td>Married-civ-spouse</td>\n      <td>Sales</td>\n      <td>Husband</td>\n      <td>0.0</td>\n      <td>0.0</td>\n      <td>48.0</td>\n      <td>1</td>\n      <td>99.0</td>\n      <td>PVT</td>\n      <td>5</td>\n      <td>0</td>\n      <td>1.0</td>\n      <td>R</td>\n    </tr>\n    <tr>\n      <th>7</th>\n      <td>Female</td>\n      <td>Private</td>\n      <td>Some-college</td>\n      <td>10.0</td>\n      <td>Married-civ-spouse</td>\n      <td>Sales</td>\n      <td>Wife</td>\n      <td>0.0</td>\n      <td>0.0</td>\n      <td>35.0</td>\n      <td>0</td>\n      <td>13.0</td>\n      <td>NBF</td>\n      <td>5</td>\n      <td>0</td>\n      <td>1.0</td>\n      <td>R</td>\n    </tr>\n    <tr>\n      <th>8</th>\n      <td>Female</td>\n      <td>Private</td>\n      <td>Bachelors</td>\n      <td>13.0</td>\n      <td>Married-civ-spouse</td>\n      <td>Prof-specialty</td>\n      <td>Wife</td>\n      <td>0.0</td>\n      <td>0.0</td>\n      <td>90.0</td>\n      <td>1</td>\n      <td>99.0</td>\n      <td>PVT</td>\n      <td>5</td>\n      <td>0</td>\n      <td>1.0</td>\n      <td>R</td>\n    </tr>\n    <tr>\n      <th>9</th>\n      <td>Female</td>\n      <td>State-gov</td>\n      <td>Bachelors</td>\n      <td>13.0</td>\n      <td>Never-married</td>\n      <td>Adm-clerical</td>\n      <td>Not-in-family</td>\n      <td>0.0</td>\n      <td>0.0</td>\n      <td>40.0</td>\n      <td>0</td>\n      <td>16.0</td>\n      <td>PVT</td>\n      <td>5</td>\n      <td>0</td>\n      <td>1.0</td>\n      <td>R</td>\n    </tr>\n    <tr>\n      <th>10</th>\n      <td>Male</td>\n      <td>Private</td>\n      <td>HS-grad</td>\n      <td>9.0</td>\n      <td>Never-married</td>\n      <td>Other-service</td>\n      <td>Own-child</td>\n      <td>0.0</td>\n      <td>0.0</td>\n      <td>40.0</td>\n      <td>0</td>\n      <td>99.0</td>\n      <td>PVT</td>\n      <td>5</td>\n      <td>0</td>\n      <td>1.0</td>\n      <td>R</td>\n    </tr>\n    <tr>\n      <th>11</th>\n      <td>Male</td>\n      <td>Private</td>\n      <td>11th</td>\n      <td>7.0</td>\n      <td>Married-civ-spouse</td>\n      <td>Protective-serv</td>\n      <td>Husband</td>\n      <td>0.0</td>\n      <td>0.0</td>\n      <td>40.0</td>\n      <td>0</td>\n      <td>13.0</td>\n      <td>NBF</td>\n      <td>189</td>\n      <td>0</td>\n      <td>1.0</td>\n      <td>I</td>\n    </tr>\n    <tr>\n      <th>12</th>\n      <td>Male</td>\n      <td>Private</td>\n      <td>Some-college</td>\n      <td>10.0</td>\n      <td>Divorced</td>\n      <td>Sales</td>\n      <td>Not-in-family</td>\n      <td>0.0</td>\n      <td>0.0</td>\n      <td>40.0</td>\n      <td>0</td>\n      <td>99.0</td>\n      <td>PVT</td>\n      <td>5</td>\n      <td>0</td>\n      <td>1.0</td>\n      <td>R</td>\n    </tr>\n    <tr>\n      <th>13</th>\n      <td>Male</td>\n      <td>Private</td>\n      <td>HS-grad</td>\n      <td>9.0</td>\n      <td>Married-civ-spouse</td>\n      <td>Transport-moving</td>\n      <td>Husband</td>\n      <td>0.0</td>\n      <td>0.0</td>\n      <td>30.0</td>\n      <td>0</td>\n      <td>99.0</td>\n      <td>PVT</td>\n      <td>5</td>\n      <td>0</td>\n      <td>1.0</td>\n      <td>R</td>\n    </tr>\n    <tr>\n      <th>14</th>\n      <td>Male</td>\n      <td>Private</td>\n      <td>HS-grad</td>\n      <td>9.0</td>\n      <td>Widowed</td>\n      <td>Craft-repair</td>\n      <td>Unmarried</td>\n      <td>0.0</td>\n      <td>0.0</td>\n      <td>40.0</td>\n      <td>0</td>\n      <td>13.0</td>\n      <td>PVT</td>\n      <td>5</td>\n      <td>0</td>\n      <td>1.0</td>\n      <td>R</td>\n    </tr>\n    <tr>\n      <th>15</th>\n      <td>Female</td>\n      <td>Local-gov</td>\n      <td>10th</td>\n      <td>6.0</td>\n      <td>Never-married</td>\n      <td>Protective-serv</td>\n      <td>Own-child</td>\n      <td>0.0</td>\n      <td>0.0</td>\n      <td>6.0</td>\n      <td>0</td>\n      <td>2.0</td>\n      <td>NBF</td>\n      <td>189</td>\n      <td>S</td>\n      <td>1.0</td>\n      <td>I</td>\n    </tr>\n    <tr>\n      <th>16</th>\n      <td>Male</td>\n      <td>Private</td>\n      <td>Bachelors</td>\n      <td>13.0</td>\n      <td>Married-civ-spouse</td>\n      <td>Craft-repair</td>\n      <td>Husband</td>\n      <td>0.0</td>\n      <td>0.0</td>\n      <td>40.0</td>\n      <td>1</td>\n      <td>7.0</td>\n      <td>PVT</td>\n      <td>5</td>\n      <td>0</td>\n      <td>1.0</td>\n      <td>R</td>\n    </tr>\n    <tr>\n      <th>17</th>\n      <td>Male</td>\n      <td>Private</td>\n      <td>Bachelors</td>\n      <td>13.0</td>\n      <td>Never-married</td>\n      <td>Exec-managerial</td>\n      <td>Own-child</td>\n      <td>2202.0</td>\n      <td>0.0</td>\n      <td>4.0</td>\n      <td>0</td>\n      <td>13.0</td>\n      <td>PVT</td>\n      <td>5</td>\n      <td>0</td>\n      <td>1.0</td>\n      <td>R</td>\n    </tr>\n    <tr>\n      <th>18</th>\n      <td>Female</td>\n      <td>State-gov</td>\n      <td>Some-college</td>\n      <td>10.0</td>\n      <td>Never-married</td>\n      <td>Adm-clerical</td>\n      <td>Not-in-family</td>\n      <td>0.0</td>\n      <td>0.0</td>\n      <td>38.0</td>\n      <td>0</td>\n      <td>2.0</td>\n      <td>NBF</td>\n      <td>189</td>\n      <td>S</td>\n      <td>1.0</td>\n      <td>I</td>\n    </tr>\n    <tr>\n      <th>19</th>\n      <td>Male</td>\n      <td>Private</td>\n      <td>Assoc-acdm</td>\n      <td>12.0</td>\n      <td>Never-married</td>\n      <td>Exec-managerial</td>\n      <td>Not-in-family</td>\n      <td>0.0</td>\n      <td>0.0</td>\n      <td>38.0</td>\n      <td>0</td>\n      <td>6.0</td>\n      <td>PVT</td>\n      <td>5</td>\n      <td>0</td>\n      <td>1.0</td>\n      <td>R</td>\n    </tr>\n  </tbody>\n</table>\n</div>"
     },
     "execution_count": 53,
     "metadata": {},
     "output_type": "execute_result"
    }
   ],
   "source": [
    "data = data.drop(['Unnamed: 0', 'email', 'address', 'date_of_birth'],axis=1)\n",
    "\n",
    "data.fillna(0, inplace=True)\n",
    "data.head(20)"
   ],
   "metadata": {
    "collapsed": false,
    "pycharm": {
     "name": "#%%\n"
    }
   }
  },
  {
   "cell_type": "code",
   "execution_count": 54,
   "outputs": [
    {
     "data": {
      "text/plain": "gender                  0\nworkclass               0\neducation_level         0\neducation_num           0\nmarital_status          0\noccupation              0\nrelationship            0\ncapital_gain            0\ncapital_loss            0\nhours_per_week          0\napproved                0\ninquiry_purpose_code    0\ninstitute_type          0\naccount_type            0\nasset_class_cd          0\nasset_code              0\nportfolio_type          0\ndtype: int64"
     },
     "execution_count": 54,
     "metadata": {},
     "output_type": "execute_result"
    }
   ],
   "source": [
    "data.isnull().sum()"
   ],
   "metadata": {
    "collapsed": false,
    "pycharm": {
     "name": "#%%\n"
    }
   }
  },
  {
   "cell_type": "code",
   "execution_count": 55,
   "outputs": [
    {
     "data": {
      "text/plain": "gender                   object\nworkclass                object\neducation_level          object\neducation_num           float64\nmarital_status           object\noccupation               object\nrelationship             object\ncapital_gain            float64\ncapital_loss            float64\nhours_per_week          float64\napproved                  int64\ninquiry_purpose_code    float64\ninstitute_type           object\naccount_type              int64\nasset_class_cd           object\nasset_code              float64\nportfolio_type           object\ndtype: object"
     },
     "execution_count": 55,
     "metadata": {},
     "output_type": "execute_result"
    }
   ],
   "source": [
    "data.dtypes"
   ],
   "metadata": {
    "collapsed": false,
    "pycharm": {
     "name": "#%%\n"
    }
   }
  },
  {
   "cell_type": "code",
   "execution_count": 56,
   "outputs": [
    {
     "data": {
      "text/plain": "Index(['gender', 'workclass', 'education_level', 'education_num',\n       'marital_status', 'occupation', 'relationship', 'capital_gain',\n       'capital_loss', 'hours_per_week', 'approved', 'inquiry_purpose_code',\n       'institute_type', 'account_type', 'asset_class_cd', 'asset_code',\n       'portfolio_type'],\n      dtype='object')"
     },
     "execution_count": 56,
     "metadata": {},
     "output_type": "execute_result"
    }
   ],
   "source": [
    "data.columns"
   ],
   "metadata": {
    "collapsed": false,
    "pycharm": {
     "name": "#%%\n"
    }
   }
  },
  {
   "cell_type": "code",
   "execution_count": 57,
   "outputs": [],
   "source": [
    "categorical_col = ['gender', 'workclass', 'education_level', 'marital_status', 'occupation', 'relationship', 'institute_type', 'asset_class_cd', 'portfolio_type']"
   ],
   "metadata": {
    "collapsed": false,
    "pycharm": {
     "name": "#%%\n"
    }
   }
  },
  {
   "cell_type": "code",
   "execution_count": 58,
   "outputs": [
    {
     "name": "stdout",
     "output_type": "stream",
     "text": [
      "[0 1 0 ... 1 0 1]\n",
      "[1 2 2 ... 3 2 2]\n",
      "[11  8  8 ...  9  1 11]\n",
      "[6 2 4 ... 2 0 0]\n",
      "[0 6 8 ... 3 7 0]\n",
      "[1 0 1 ... 0 4 1]\n",
      "[5 6 7 ... 5 7 5]\n",
      "[0 7 0 ... 7 0 0]\n",
      "[4 2 2 ... 2 4 2]\n"
     ]
    }
   ],
   "source": [
    "le = LabelEncoder()\n",
    "# data_new = le.fit_transform(data)\n",
    "df = pd.DataFrame([])\n",
    "for i in data.columns:\n",
    "    if i in categorical_col:\n",
    "        ff = le.fit_transform(data[i].astype(str))\n",
    "        print(ff)\n",
    "        df[i] = ff\n",
    "    else:\n",
    "        df[i] = data[i]"
   ],
   "metadata": {
    "collapsed": false,
    "pycharm": {
     "name": "#%%\n"
    }
   }
  },
  {
   "cell_type": "code",
   "execution_count": 59,
   "outputs": [],
   "source": [
    "df = df.iloc[:1000, :]"
   ],
   "metadata": {
    "collapsed": false,
    "pycharm": {
     "name": "#%%\n"
    }
   }
  },
  {
   "cell_type": "code",
   "execution_count": 60,
   "outputs": [
    {
     "data": {
      "text/plain": "       gender  workclass  education_level  education_num  marital_status  \\\n0   -1.447748  -1.275242         0.184295      -0.444772        2.263541   \n1    0.690728  -0.208986        -0.625201       0.357341       -0.451351   \n2   -1.447748  -0.208986        -0.625201       0.357341        0.906095   \n3    0.690728  -1.275242         1.263623      -0.043715        2.263541   \n4   -1.447748   1.923525        -0.355369       1.159454       -0.451351   \n..        ...        ...              ...            ...             ...   \n995  0.690728   0.857270        -0.355369       1.159454       -0.451351   \n996 -1.447748  -0.208986         0.184295      -0.444772        0.906095   \n997  0.690728  -0.208986         0.184295      -0.444772       -0.451351   \n998  0.690728   1.923525         0.184295      -0.444772       -0.451351   \n999  0.690728  -0.208986         0.184295      -0.444772        0.906095   \n\n     occupation  relationship  capital_gain  capital_loss  hours_per_week  \\\n0     -1.517649     -0.279567     -0.142812     -0.239253       -2.439981   \n1     -0.035570     -0.891311     -0.142812     -0.239253       -1.759989   \n2      0.458457     -0.279567     -0.142812     -0.239253       -0.909999   \n3     -0.776610     -0.279567      0.875790     -0.239253       -0.060009   \n4      0.705470      0.332177     -0.142812     -0.239253       -1.759989   \n..          ...           ...           ...           ...             ...   \n995    1.199496     -0.891311     -0.142812     -0.239253       -0.060009   \n996   -0.035570      0.943921     -0.142812     -0.239253       -0.060009   \n997   -0.035570     -0.891311     -0.142812     -0.239253       -0.060009   \n998    1.693523     -0.891311     -0.142812     -0.239253        0.789981   \n999   -1.023623     -0.279567     -0.142812     -0.239253       -0.485004   \n\n     approved  inquiry_purpose_code  institute_type  account_type  \\\n0   -0.581969             -0.301834       -0.878233     -0.532189   \n1   -0.581969             -0.717583       -0.052050     -0.221508   \n2   -0.581969             -0.390923        0.774134      0.828889   \n3   -0.581969             -0.301834       -0.878233     -0.532189   \n4    1.718304              2.162964       -5.009151     -0.532189   \n..        ...                   ...             ...           ...   \n995  1.718304             -0.301834       -0.878233      0.828889   \n996 -0.581969             -0.390923        0.774134     -0.532189   \n997 -0.581969             -0.776976        0.774134     -0.532189   \n998 -0.581969             -0.390923       -0.878233      1.109981   \n999 -0.581969             -0.776976        0.774134     -0.532189   \n\n     asset_class_cd  asset_code  portfolio_type  \n0         -0.499904   -0.075786        0.805161  \n1          2.063705   -0.075786       -1.267326  \n2         -0.499904   -0.075786       -1.267326  \n3         -0.499904   -0.075786        0.805161  \n4         -0.499904   -0.075786        0.805161  \n..              ...         ...             ...  \n995       -0.499904   -0.075786       -1.267326  \n996       -0.499904   -0.075786        0.805161  \n997       -0.499904   -0.075786        0.805161  \n998        2.063705   -0.075786       -1.267326  \n999       -0.499904   -0.075786        0.805161  \n\n[1000 rows x 17 columns]",
      "text/html": "<div>\n<style scoped>\n    .dataframe tbody tr th:only-of-type {\n        vertical-align: middle;\n    }\n\n    .dataframe tbody tr th {\n        vertical-align: top;\n    }\n\n    .dataframe thead th {\n        text-align: right;\n    }\n</style>\n<table border=\"1\" class=\"dataframe\">\n  <thead>\n    <tr style=\"text-align: right;\">\n      <th></th>\n      <th>gender</th>\n      <th>workclass</th>\n      <th>education_level</th>\n      <th>education_num</th>\n      <th>marital_status</th>\n      <th>occupation</th>\n      <th>relationship</th>\n      <th>capital_gain</th>\n      <th>capital_loss</th>\n      <th>hours_per_week</th>\n      <th>approved</th>\n      <th>inquiry_purpose_code</th>\n      <th>institute_type</th>\n      <th>account_type</th>\n      <th>asset_class_cd</th>\n      <th>asset_code</th>\n      <th>portfolio_type</th>\n    </tr>\n  </thead>\n  <tbody>\n    <tr>\n      <th>0</th>\n      <td>-1.447748</td>\n      <td>-1.275242</td>\n      <td>0.184295</td>\n      <td>-0.444772</td>\n      <td>2.263541</td>\n      <td>-1.517649</td>\n      <td>-0.279567</td>\n      <td>-0.142812</td>\n      <td>-0.239253</td>\n      <td>-2.439981</td>\n      <td>-0.581969</td>\n      <td>-0.301834</td>\n      <td>-0.878233</td>\n      <td>-0.532189</td>\n      <td>-0.499904</td>\n      <td>-0.075786</td>\n      <td>0.805161</td>\n    </tr>\n    <tr>\n      <th>1</th>\n      <td>0.690728</td>\n      <td>-0.208986</td>\n      <td>-0.625201</td>\n      <td>0.357341</td>\n      <td>-0.451351</td>\n      <td>-0.035570</td>\n      <td>-0.891311</td>\n      <td>-0.142812</td>\n      <td>-0.239253</td>\n      <td>-1.759989</td>\n      <td>-0.581969</td>\n      <td>-0.717583</td>\n      <td>-0.052050</td>\n      <td>-0.221508</td>\n      <td>2.063705</td>\n      <td>-0.075786</td>\n      <td>-1.267326</td>\n    </tr>\n    <tr>\n      <th>2</th>\n      <td>-1.447748</td>\n      <td>-0.208986</td>\n      <td>-0.625201</td>\n      <td>0.357341</td>\n      <td>0.906095</td>\n      <td>0.458457</td>\n      <td>-0.279567</td>\n      <td>-0.142812</td>\n      <td>-0.239253</td>\n      <td>-0.909999</td>\n      <td>-0.581969</td>\n      <td>-0.390923</td>\n      <td>0.774134</td>\n      <td>0.828889</td>\n      <td>-0.499904</td>\n      <td>-0.075786</td>\n      <td>-1.267326</td>\n    </tr>\n    <tr>\n      <th>3</th>\n      <td>0.690728</td>\n      <td>-1.275242</td>\n      <td>1.263623</td>\n      <td>-0.043715</td>\n      <td>2.263541</td>\n      <td>-0.776610</td>\n      <td>-0.279567</td>\n      <td>0.875790</td>\n      <td>-0.239253</td>\n      <td>-0.060009</td>\n      <td>-0.581969</td>\n      <td>-0.301834</td>\n      <td>-0.878233</td>\n      <td>-0.532189</td>\n      <td>-0.499904</td>\n      <td>-0.075786</td>\n      <td>0.805161</td>\n    </tr>\n    <tr>\n      <th>4</th>\n      <td>-1.447748</td>\n      <td>1.923525</td>\n      <td>-0.355369</td>\n      <td>1.159454</td>\n      <td>-0.451351</td>\n      <td>0.705470</td>\n      <td>0.332177</td>\n      <td>-0.142812</td>\n      <td>-0.239253</td>\n      <td>-1.759989</td>\n      <td>1.718304</td>\n      <td>2.162964</td>\n      <td>-5.009151</td>\n      <td>-0.532189</td>\n      <td>-0.499904</td>\n      <td>-0.075786</td>\n      <td>0.805161</td>\n    </tr>\n    <tr>\n      <th>...</th>\n      <td>...</td>\n      <td>...</td>\n      <td>...</td>\n      <td>...</td>\n      <td>...</td>\n      <td>...</td>\n      <td>...</td>\n      <td>...</td>\n      <td>...</td>\n      <td>...</td>\n      <td>...</td>\n      <td>...</td>\n      <td>...</td>\n      <td>...</td>\n      <td>...</td>\n      <td>...</td>\n      <td>...</td>\n    </tr>\n    <tr>\n      <th>995</th>\n      <td>0.690728</td>\n      <td>0.857270</td>\n      <td>-0.355369</td>\n      <td>1.159454</td>\n      <td>-0.451351</td>\n      <td>1.199496</td>\n      <td>-0.891311</td>\n      <td>-0.142812</td>\n      <td>-0.239253</td>\n      <td>-0.060009</td>\n      <td>1.718304</td>\n      <td>-0.301834</td>\n      <td>-0.878233</td>\n      <td>0.828889</td>\n      <td>-0.499904</td>\n      <td>-0.075786</td>\n      <td>-1.267326</td>\n    </tr>\n    <tr>\n      <th>996</th>\n      <td>-1.447748</td>\n      <td>-0.208986</td>\n      <td>0.184295</td>\n      <td>-0.444772</td>\n      <td>0.906095</td>\n      <td>-0.035570</td>\n      <td>0.943921</td>\n      <td>-0.142812</td>\n      <td>-0.239253</td>\n      <td>-0.060009</td>\n      <td>-0.581969</td>\n      <td>-0.390923</td>\n      <td>0.774134</td>\n      <td>-0.532189</td>\n      <td>-0.499904</td>\n      <td>-0.075786</td>\n      <td>0.805161</td>\n    </tr>\n    <tr>\n      <th>997</th>\n      <td>0.690728</td>\n      <td>-0.208986</td>\n      <td>0.184295</td>\n      <td>-0.444772</td>\n      <td>-0.451351</td>\n      <td>-0.035570</td>\n      <td>-0.891311</td>\n      <td>-0.142812</td>\n      <td>-0.239253</td>\n      <td>-0.060009</td>\n      <td>-0.581969</td>\n      <td>-0.776976</td>\n      <td>0.774134</td>\n      <td>-0.532189</td>\n      <td>-0.499904</td>\n      <td>-0.075786</td>\n      <td>0.805161</td>\n    </tr>\n    <tr>\n      <th>998</th>\n      <td>0.690728</td>\n      <td>1.923525</td>\n      <td>0.184295</td>\n      <td>-0.444772</td>\n      <td>-0.451351</td>\n      <td>1.693523</td>\n      <td>-0.891311</td>\n      <td>-0.142812</td>\n      <td>-0.239253</td>\n      <td>0.789981</td>\n      <td>-0.581969</td>\n      <td>-0.390923</td>\n      <td>-0.878233</td>\n      <td>1.109981</td>\n      <td>2.063705</td>\n      <td>-0.075786</td>\n      <td>-1.267326</td>\n    </tr>\n    <tr>\n      <th>999</th>\n      <td>0.690728</td>\n      <td>-0.208986</td>\n      <td>0.184295</td>\n      <td>-0.444772</td>\n      <td>0.906095</td>\n      <td>-1.023623</td>\n      <td>-0.279567</td>\n      <td>-0.142812</td>\n      <td>-0.239253</td>\n      <td>-0.485004</td>\n      <td>-0.581969</td>\n      <td>-0.776976</td>\n      <td>0.774134</td>\n      <td>-0.532189</td>\n      <td>-0.499904</td>\n      <td>-0.075786</td>\n      <td>0.805161</td>\n    </tr>\n  </tbody>\n</table>\n<p>1000 rows × 17 columns</p>\n</div>"
     },
     "execution_count": 60,
     "metadata": {},
     "output_type": "execute_result"
    }
   ],
   "source": [
    "from sklearn.preprocessing import StandardScaler\n",
    "\n",
    "# create a scaler object\n",
    "std_scaler = StandardScaler()\n",
    "std_scaler\n",
    "# fit and transform the data\n",
    "df_std = pd.DataFrame(std_scaler.fit_transform(df), columns=data.columns)\n",
    "\n",
    "df_std"
   ],
   "metadata": {
    "collapsed": false,
    "pycharm": {
     "name": "#%%\n"
    }
   }
  },
  {
   "cell_type": "markdown",
   "source": [
    "# Train"
   ],
   "metadata": {
    "collapsed": false,
    "pycharm": {
     "name": "#%% md\n"
    }
   }
  },
  {
   "cell_type": "code",
   "execution_count": 61,
   "outputs": [],
   "source": [
    "from sklearn.model_selection import train_test_split"
   ],
   "metadata": {
    "collapsed": false,
    "pycharm": {
     "name": "#%%\n"
    }
   }
  },
  {
   "cell_type": "code",
   "execution_count": 62,
   "outputs": [
    {
     "data": {
      "text/plain": "     gender  workclass  education_level  education_num  marital_status  \\\n0         0          1               11            9.0               6   \n1         1          2                8           11.0               2   \n2         0          2                8           11.0               4   \n3         1          1               15           10.0               6   \n4         0          4                9           13.0               2   \n..      ...        ...              ...            ...             ...   \n995       1          3                9           13.0               2   \n996       0          2               11            9.0               4   \n997       1          2               11            9.0               2   \n998       1          4               11            9.0               2   \n999       1          2               11            9.0               4   \n\n     occupation  relationship  capital_gain  capital_loss  hours_per_week  \\\n0             0             1           0.0           0.0            12.0   \n1             6             0           0.0           0.0            20.0   \n2             8             1           0.0           0.0            30.0   \n3             3             1        6849.0           0.0            40.0   \n4             9             2           0.0           0.0            20.0   \n..          ...           ...           ...           ...             ...   \n995          11             0           0.0           0.0            40.0   \n996           6             3           0.0           0.0            40.0   \n997           6             0           0.0           0.0            40.0   \n998          13             0           0.0           0.0            50.0   \n999           2             1           0.0           0.0            35.0   \n\n     inquiry_purpose_code  institute_type  account_type  asset_class_cd  \\\n0                    16.0               5             5               0   \n1                     2.0               6            47               7   \n2                    13.0               7           189               0   \n3                    16.0               5             5               0   \n4                    99.0               0             5               0   \n..                    ...             ...           ...             ...   \n995                  16.0               5           189               0   \n996                  13.0               7             5               0   \n997                   0.0               7             5               0   \n998                  13.0               5           227               7   \n999                   0.0               7             5               0   \n\n     asset_code  portfolio_type  \n0           1.0               4  \n1           1.0               2  \n2           1.0               2  \n3           1.0               4  \n4           1.0               4  \n..          ...             ...  \n995         1.0               2  \n996         1.0               4  \n997         1.0               4  \n998         1.0               2  \n999         1.0               4  \n\n[1000 rows x 16 columns]",
      "text/html": "<div>\n<style scoped>\n    .dataframe tbody tr th:only-of-type {\n        vertical-align: middle;\n    }\n\n    .dataframe tbody tr th {\n        vertical-align: top;\n    }\n\n    .dataframe thead th {\n        text-align: right;\n    }\n</style>\n<table border=\"1\" class=\"dataframe\">\n  <thead>\n    <tr style=\"text-align: right;\">\n      <th></th>\n      <th>gender</th>\n      <th>workclass</th>\n      <th>education_level</th>\n      <th>education_num</th>\n      <th>marital_status</th>\n      <th>occupation</th>\n      <th>relationship</th>\n      <th>capital_gain</th>\n      <th>capital_loss</th>\n      <th>hours_per_week</th>\n      <th>inquiry_purpose_code</th>\n      <th>institute_type</th>\n      <th>account_type</th>\n      <th>asset_class_cd</th>\n      <th>asset_code</th>\n      <th>portfolio_type</th>\n    </tr>\n  </thead>\n  <tbody>\n    <tr>\n      <th>0</th>\n      <td>0</td>\n      <td>1</td>\n      <td>11</td>\n      <td>9.0</td>\n      <td>6</td>\n      <td>0</td>\n      <td>1</td>\n      <td>0.0</td>\n      <td>0.0</td>\n      <td>12.0</td>\n      <td>16.0</td>\n      <td>5</td>\n      <td>5</td>\n      <td>0</td>\n      <td>1.0</td>\n      <td>4</td>\n    </tr>\n    <tr>\n      <th>1</th>\n      <td>1</td>\n      <td>2</td>\n      <td>8</td>\n      <td>11.0</td>\n      <td>2</td>\n      <td>6</td>\n      <td>0</td>\n      <td>0.0</td>\n      <td>0.0</td>\n      <td>20.0</td>\n      <td>2.0</td>\n      <td>6</td>\n      <td>47</td>\n      <td>7</td>\n      <td>1.0</td>\n      <td>2</td>\n    </tr>\n    <tr>\n      <th>2</th>\n      <td>0</td>\n      <td>2</td>\n      <td>8</td>\n      <td>11.0</td>\n      <td>4</td>\n      <td>8</td>\n      <td>1</td>\n      <td>0.0</td>\n      <td>0.0</td>\n      <td>30.0</td>\n      <td>13.0</td>\n      <td>7</td>\n      <td>189</td>\n      <td>0</td>\n      <td>1.0</td>\n      <td>2</td>\n    </tr>\n    <tr>\n      <th>3</th>\n      <td>1</td>\n      <td>1</td>\n      <td>15</td>\n      <td>10.0</td>\n      <td>6</td>\n      <td>3</td>\n      <td>1</td>\n      <td>6849.0</td>\n      <td>0.0</td>\n      <td>40.0</td>\n      <td>16.0</td>\n      <td>5</td>\n      <td>5</td>\n      <td>0</td>\n      <td>1.0</td>\n      <td>4</td>\n    </tr>\n    <tr>\n      <th>4</th>\n      <td>0</td>\n      <td>4</td>\n      <td>9</td>\n      <td>13.0</td>\n      <td>2</td>\n      <td>9</td>\n      <td>2</td>\n      <td>0.0</td>\n      <td>0.0</td>\n      <td>20.0</td>\n      <td>99.0</td>\n      <td>0</td>\n      <td>5</td>\n      <td>0</td>\n      <td>1.0</td>\n      <td>4</td>\n    </tr>\n    <tr>\n      <th>...</th>\n      <td>...</td>\n      <td>...</td>\n      <td>...</td>\n      <td>...</td>\n      <td>...</td>\n      <td>...</td>\n      <td>...</td>\n      <td>...</td>\n      <td>...</td>\n      <td>...</td>\n      <td>...</td>\n      <td>...</td>\n      <td>...</td>\n      <td>...</td>\n      <td>...</td>\n      <td>...</td>\n    </tr>\n    <tr>\n      <th>995</th>\n      <td>1</td>\n      <td>3</td>\n      <td>9</td>\n      <td>13.0</td>\n      <td>2</td>\n      <td>11</td>\n      <td>0</td>\n      <td>0.0</td>\n      <td>0.0</td>\n      <td>40.0</td>\n      <td>16.0</td>\n      <td>5</td>\n      <td>189</td>\n      <td>0</td>\n      <td>1.0</td>\n      <td>2</td>\n    </tr>\n    <tr>\n      <th>996</th>\n      <td>0</td>\n      <td>2</td>\n      <td>11</td>\n      <td>9.0</td>\n      <td>4</td>\n      <td>6</td>\n      <td>3</td>\n      <td>0.0</td>\n      <td>0.0</td>\n      <td>40.0</td>\n      <td>13.0</td>\n      <td>7</td>\n      <td>5</td>\n      <td>0</td>\n      <td>1.0</td>\n      <td>4</td>\n    </tr>\n    <tr>\n      <th>997</th>\n      <td>1</td>\n      <td>2</td>\n      <td>11</td>\n      <td>9.0</td>\n      <td>2</td>\n      <td>6</td>\n      <td>0</td>\n      <td>0.0</td>\n      <td>0.0</td>\n      <td>40.0</td>\n      <td>0.0</td>\n      <td>7</td>\n      <td>5</td>\n      <td>0</td>\n      <td>1.0</td>\n      <td>4</td>\n    </tr>\n    <tr>\n      <th>998</th>\n      <td>1</td>\n      <td>4</td>\n      <td>11</td>\n      <td>9.0</td>\n      <td>2</td>\n      <td>13</td>\n      <td>0</td>\n      <td>0.0</td>\n      <td>0.0</td>\n      <td>50.0</td>\n      <td>13.0</td>\n      <td>5</td>\n      <td>227</td>\n      <td>7</td>\n      <td>1.0</td>\n      <td>2</td>\n    </tr>\n    <tr>\n      <th>999</th>\n      <td>1</td>\n      <td>2</td>\n      <td>11</td>\n      <td>9.0</td>\n      <td>4</td>\n      <td>2</td>\n      <td>1</td>\n      <td>0.0</td>\n      <td>0.0</td>\n      <td>35.0</td>\n      <td>0.0</td>\n      <td>7</td>\n      <td>5</td>\n      <td>0</td>\n      <td>1.0</td>\n      <td>4</td>\n    </tr>\n  </tbody>\n</table>\n<p>1000 rows × 16 columns</p>\n</div>"
     },
     "execution_count": 62,
     "metadata": {},
     "output_type": "execute_result"
    }
   ],
   "source": [
    "X = df.drop('approved', axis=1, inplace=False)\n",
    "X"
   ],
   "metadata": {
    "collapsed": false,
    "pycharm": {
     "name": "#%%\n"
    }
   }
  },
  {
   "cell_type": "code",
   "execution_count": 63,
   "outputs": [
    {
     "data": {
      "text/plain": "0      0\n1      0\n2      0\n3      0\n4      1\n      ..\n995    1\n996    0\n997    0\n998    0\n999    0\nName: approved, Length: 1000, dtype: int64"
     },
     "execution_count": 63,
     "metadata": {},
     "output_type": "execute_result"
    }
   ],
   "source": [
    "y = df['approved']\n",
    "y"
   ],
   "metadata": {
    "collapsed": false,
    "pycharm": {
     "name": "#%%\n"
    }
   }
  },
  {
   "cell_type": "code",
   "execution_count": 64,
   "outputs": [],
   "source": [
    "X_train, X_test, y_train, y_test = train_test_split(X, y, test_size=0.3)"
   ],
   "metadata": {
    "collapsed": false,
    "pycharm": {
     "name": "#%%\n"
    }
   }
  },
  {
   "cell_type": "markdown",
   "source": [
    "## SVM"
   ],
   "metadata": {
    "collapsed": false,
    "pycharm": {
     "name": "#%% md\n"
    }
   }
  },
  {
   "cell_type": "code",
   "execution_count": 65,
   "outputs": [
    {
     "data": {
      "text/plain": "SVC(kernel='linear')"
     },
     "execution_count": 65,
     "metadata": {},
     "output_type": "execute_result"
    }
   ],
   "source": [
    "from sklearn import svm\n",
    "model_svm = svm.SVC(kernel='linear')\n",
    "model_svm.fit(X_train, y_train)\n",
    "\n",
    "model_svm"
   ],
   "metadata": {
    "collapsed": false,
    "pycharm": {
     "name": "#%%\n"
    }
   }
  },
  {
   "cell_type": "code",
   "execution_count": 82,
   "outputs": [
    {
     "data": {
      "text/plain": "array([1, 0, 0, 0, 0, 0, 0, 0, 0, 0, 0, 0, 0, 0, 0, 0, 0, 0, 1, 0, 0, 0,\n       0, 0, 0, 0, 0, 1, 1, 0, 0, 1, 0, 1, 0, 0, 0, 0, 1, 0, 0, 0, 0, 0,\n       1, 0, 0, 0, 1, 0, 0, 0, 0, 0, 0, 0, 1, 1, 0, 0, 0, 1, 0, 0, 0, 0,\n       1, 0, 0, 0, 0, 0, 1, 0, 0, 0, 0, 0, 0, 0, 0, 0, 0, 1, 0, 0, 1, 0,\n       0, 0, 1, 1, 0, 0, 0, 0, 0, 1, 0, 0, 0, 0, 0, 0, 0, 0, 0, 0, 0, 0,\n       0, 0, 0, 1, 0, 1, 0, 0, 0, 0, 0, 1, 0, 0, 0, 0, 1, 0, 0, 0, 0, 0,\n       0, 0, 1, 1, 0, 0, 0, 0, 0, 0, 0, 1, 1, 0, 0, 1, 1, 0, 0, 1, 0, 1,\n       0, 0, 0, 0, 0, 0, 0, 0, 0, 1, 0, 0, 1, 1, 0, 0, 0, 0, 0, 0, 0, 0,\n       1, 0, 0, 1, 0, 1, 1, 0, 0, 0, 0, 0, 0, 0, 0, 0, 0, 0, 0, 0, 0, 1,\n       0, 0, 1, 0, 1, 1, 0, 0, 0, 1, 1, 1, 0, 1, 0, 0, 0, 0, 0, 0, 0, 0,\n       0, 0, 0, 1, 0, 0, 0, 0, 0, 0, 1, 0, 0, 0, 0, 0, 0, 0, 0, 0, 1, 0,\n       0, 0, 0, 0, 0, 0, 0, 0, 0, 0, 0, 1, 0, 0, 0, 0, 0, 1, 0, 0, 0, 0,\n       0, 0, 0, 0, 0, 0, 0, 0, 1, 0, 0, 0, 0, 0, 0, 0, 0, 1, 0, 0, 0, 0,\n       0, 0, 0, 0, 0, 0, 0, 0, 1, 1, 0, 0, 0, 1])"
     },
     "execution_count": 82,
     "metadata": {},
     "output_type": "execute_result"
    }
   ],
   "source": [
    "predict_svm = model_svm.predict(X_test)\n",
    "predict_svm"
   ],
   "metadata": {
    "collapsed": false,
    "pycharm": {
     "name": "#%%\n"
    }
   }
  },
  {
   "cell_type": "code",
   "execution_count": 85,
   "outputs": [
    {
     "name": "stdout",
     "output_type": "stream",
     "text": [
      "              precision    recall  f1-score   support\n",
      "\n",
      "           0       0.88      0.91      0.89       236\n",
      "           1       0.61      0.53      0.57        64\n",
      "\n",
      "    accuracy                           0.83       300\n",
      "   macro avg       0.74      0.72      0.73       300\n",
      "weighted avg       0.82      0.83      0.82       300\n",
      "\n",
      "0.8266666666666667\n"
     ]
    }
   ],
   "source": [
    "from sklearn.metrics import fbeta_score\n",
    "from sklearn.metrics import classification_report\n",
    "\n",
    "print(classification_report(y_test, predict_svm))\n",
    "print(fbeta_score(y_test, predict_svm, beta=1.3, average='micro'))"
   ],
   "metadata": {
    "collapsed": false,
    "pycharm": {
     "name": "#%%\n"
    }
   }
  },
  {
   "cell_type": "markdown",
   "source": [
    "## SVR"
   ],
   "metadata": {
    "collapsed": false,
    "pycharm": {
     "name": "#%% md\n"
    }
   }
  },
  {
   "cell_type": "code",
   "execution_count": 75,
   "outputs": [
    {
     "data": {
      "text/plain": "SVR()"
     },
     "execution_count": 75,
     "metadata": {},
     "output_type": "execute_result"
    }
   ],
   "source": [
    "model_svr = svm.SVR(kernel='rbf')\n",
    "model_svr.fit(X_train, y_train.astype('int'))\n",
    "\n",
    "model_svr\n"
   ],
   "metadata": {
    "collapsed": false,
    "pycharm": {
     "name": "#%%\n"
    }
   }
  },
  {
   "cell_type": "code",
   "execution_count": 76,
   "outputs": [
    {
     "data": {
      "text/plain": "array([ 1.,  0.,  0.,  0.,  0.,  0.,  0.,  0.,  0.,  0.,  0.,  0.,  0.,\n        0.,  0.,  1.,  0.,  0.,  1.,  0., -0.,  0.,  0.,  0.,  0.,  0.,\n        0.,  1.,  0.,  0.,  0.,  1.,  0.,  0.,  0.,  0.,  0.,  0.,  0.,\n        0.,  0.,  0.,  0.,  0.,  1.,  0.,  0.,  0.,  0.,  0.,  0.,  0.,\n        0.,  0.,  0.,  0.,  0.,  0.,  0.,  0.,  0.,  1.,  0.,  0.,  0.,\n        0.,  1.,  0.,  0.,  0.,  0.,  0.,  0.,  0.,  0.,  0.,  0.,  0.,\n        0.,  0.,  0.,  0.,  0.,  0.,  0.,  0.,  0.,  0.,  0.,  0.,  0.,\n        1.,  0.,  0.,  0.,  0.,  0.,  0.,  0.,  0.,  0.,  0.,  0.,  0.,\n        0.,  0.,  0.,  0.,  0.,  0.,  0.,  0.,  0.,  1.,  0.,  0.,  0.,\n        0.,  0.,  0.,  0.,  1.,  0.,  0.,  0.,  0., -0.,  0.,  0.,  0.,\n        0.,  0.,  0.,  0.,  0.,  0.,  0.,  0.,  0.,  0.,  0.,  0.,  0.,\n        0.,  0.,  0.,  0.,  1.,  0.,  0.,  0.,  0.,  0.,  1.,  0.,  0.,\n        0.,  0.,  0.,  0.,  0.,  0.,  0.,  0.,  0.,  0.,  1.,  0.,  0.,\n        0.,  0.,  0.,  0.,  0.,  0.,  0.,  1.,  0.,  0.,  1.,  0.,  0.,\n        0.,  0.,  0.,  0.,  0.,  0.,  0.,  0.,  0.,  0.,  0.,  0.,  0.,\n        0.,  0.,  0.,  0.,  0.,  1.,  0.,  1.,  0.,  0.,  0.,  0.,  0.,\n        1.,  1.,  0.,  0.,  0.,  0.,  0.,  0.,  0.,  0.,  0.,  0.,  0.,\n        0.,  0.,  1.,  0.,  0.,  0.,  0.,  0.,  0.,  0.,  0.,  0.,  0.,\n        0.,  0.,  0.,  0.,  0.,  0.,  0.,  0.,  0.,  0.,  0.,  0.,  0.,\n        0.,  0.,  0.,  0.,  0.,  0.,  0.,  0.,  0.,  0.,  0.,  0.,  1.,\n        0.,  0.,  0.,  0.,  0.,  0.,  0.,  0.,  0.,  0.,  0.,  0.,  0.,\n        0.,  0.,  0.,  0.,  0.,  0.,  0.,  0.,  0.,  0.,  0.,  0.,  0.,\n        0.,  0.,  0.,  0.,  0.,  0.,  0.,  0.,  0.,  0.,  0.,  0.,  0.,\n        1.])"
     },
     "execution_count": 76,
     "metadata": {},
     "output_type": "execute_result"
    }
   ],
   "source": [
    "\n",
    "predict_svr = model_svr.predict(X_test)\n",
    "predict_svr.round()"
   ],
   "metadata": {
    "collapsed": false,
    "pycharm": {
     "name": "#%%\n"
    }
   }
  },
  {
   "cell_type": "code",
   "execution_count": 78,
   "outputs": [
    {
     "name": "stdout",
     "output_type": "stream",
     "text": [
      "0.8266666666666667\n"
     ]
    }
   ],
   "source": [
    "print(fbeta_score(y_test, predict_svm, beta=1.3, average='micro'))"
   ],
   "metadata": {
    "collapsed": false,
    "pycharm": {
     "name": "#%%\n"
    }
   }
  },
  {
   "cell_type": "markdown",
   "source": [
    "## Decision Tree"
   ],
   "metadata": {
    "collapsed": false
   }
  },
  {
   "cell_type": "code",
   "execution_count": 79,
   "outputs": [
    {
     "data": {
      "text/plain": "[Text(215.68223623143567, 213.0912, 'X[6] <= 0.5\\nentropy = 0.841\\nsamples = 700\\nvalue = [511, 189]'),\n Text(154.78155167079208, 204.3936, 'X[7] <= 5095.5\\nentropy = 1.0\\nsamples = 289\\nvalue = [147, 142]'),\n Text(151.4667001856436, 195.696, 'X[3] <= 12.5\\nentropy = 0.991\\nsamples = 264\\nvalue = [147, 117]'),\n Text(110.25765779702971, 186.9984, 'X[8] <= 1738.0\\nentropy = 0.903\\nsamples = 185\\nvalue = [126, 59]'),\n Text(103.62795482673268, 178.3008, 'X[9] <= 32.5\\nentropy = 0.879\\nsamples = 178\\nvalue = [125, 53]'),\n Text(100.31310334158417, 169.60320000000002, 'entropy = 0.0\\nsamples = 11\\nvalue = [11, 0]'),\n Text(106.9428063118812, 169.60320000000002, 'X[9] <= 82.0\\nentropy = 0.901\\nsamples = 167\\nvalue = [114, 53]'),\n Text(103.62795482673268, 160.9056, 'X[1] <= 3.5\\nentropy = 0.892\\nsamples = 165\\nvalue = [114, 51]'),\n Text(77.97670173267328, 152.208, 'X[2] <= 5.5\\nentropy = 0.923\\nsamples = 139\\nvalue = [92, 47]'),\n Text(63.08576732673268, 143.5104, 'X[9] <= 47.5\\nentropy = 0.439\\nsamples = 11\\nvalue = [10, 1]'),\n Text(59.77091584158416, 134.81279999999998, 'entropy = 0.0\\nsamples = 10\\nvalue = [10, 0]'),\n Text(66.40061881188119, 134.81279999999998, 'entropy = 0.0\\nsamples = 1\\nvalue = [0, 1]'),\n Text(92.86763613861388, 143.5104, 'X[2] <= 13.0\\nentropy = 0.942\\nsamples = 128\\nvalue = [82, 46]'),\n Text(73.03032178217822, 134.81279999999998, 'X[10] <= 17.0\\nentropy = 0.904\\nsamples = 100\\nvalue = [68, 32]'),\n Text(49.92995049504951, 126.1152, 'X[9] <= 58.0\\nentropy = 0.945\\nsamples = 80\\nvalue = [51, 29]'),\n Text(35.22029702970298, 117.41760000000001, 'X[1] <= 2.5\\nentropy = 0.968\\nsamples = 71\\nvalue = [43, 28]'),\n Text(22.375247524752478, 108.72, 'X[10] <= 6.0\\nentropy = 0.953\\nsamples = 67\\nvalue = [42, 25]'),\n Text(6.62970297029703, 100.0224, 'X[5] <= 2.5\\nentropy = 0.684\\nsamples = 11\\nvalue = [9, 2]'),\n Text(3.314851485148515, 91.32480000000001, 'entropy = 0.0\\nsamples = 5\\nvalue = [5, 0]'),\n Text(9.944554455445545, 91.32480000000001, 'X[10] <= 1.0\\nentropy = 0.918\\nsamples = 6\\nvalue = [4, 2]'),\n Text(6.62970297029703, 82.62720000000002, 'entropy = 0.0\\nsamples = 1\\nvalue = [0, 1]'),\n Text(13.25940594059406, 82.62720000000002, 'X[15] <= 3.0\\nentropy = 0.722\\nsamples = 5\\nvalue = [4, 1]'),\n Text(9.944554455445545, 73.9296, 'X[12] <= 85.0\\nentropy = 0.918\\nsamples = 3\\nvalue = [2, 1]'),\n Text(6.62970297029703, 65.232, 'X[8] <= 814.0\\nentropy = 1.0\\nsamples = 2\\nvalue = [1, 1]'),\n Text(3.314851485148515, 56.534400000000005, 'entropy = 0.0\\nsamples = 1\\nvalue = [0, 1]'),\n Text(9.944554455445545, 56.534400000000005, 'entropy = 0.0\\nsamples = 1\\nvalue = [1, 0]'),\n Text(13.25940594059406, 65.232, 'entropy = 0.0\\nsamples = 1\\nvalue = [1, 0]'),\n Text(16.574257425742577, 73.9296, 'entropy = 0.0\\nsamples = 2\\nvalue = [2, 0]'),\n Text(38.120792079207924, 100.0224, 'X[1] <= 1.5\\nentropy = 0.977\\nsamples = 56\\nvalue = [33, 23]'),\n Text(34.80594059405941, 91.32480000000001, 'entropy = 0.0\\nsamples = 2\\nvalue = [0, 2]'),\n Text(41.43564356435644, 91.32480000000001, 'X[2] <= 9.5\\nentropy = 0.964\\nsamples = 54\\nvalue = [33, 21]'),\n Text(26.51881188118812, 82.62720000000002, 'X[5] <= 2.5\\nentropy = 0.946\\nsamples = 11\\nvalue = [4, 7]'),\n Text(23.203960396039605, 73.9296, 'entropy = 0.0\\nsamples = 2\\nvalue = [2, 0]'),\n Text(29.833663366336637, 73.9296, 'X[12] <= 151.5\\nentropy = 0.764\\nsamples = 9\\nvalue = [2, 7]'),\n Text(26.51881188118812, 65.232, 'entropy = 0.0\\nsamples = 2\\nvalue = [2, 0]'),\n Text(33.14851485148515, 65.232, 'entropy = 0.0\\nsamples = 7\\nvalue = [0, 7]'),\n Text(56.35247524752476, 82.62720000000002, 'X[5] <= 5.5\\nentropy = 0.91\\nsamples = 43\\nvalue = [29, 14]'),\n Text(43.093069306930694, 73.9296, 'X[13] <= 3.5\\nentropy = 1.0\\nsamples = 18\\nvalue = [9, 9]'),\n Text(39.77821782178218, 65.232, 'X[5] <= 4.5\\nentropy = 0.989\\nsamples = 16\\nvalue = [9, 7]'),\n Text(36.46336633663367, 56.534400000000005, 'X[10] <= 10.0\\nentropy = 0.94\\nsamples = 14\\nvalue = [9, 5]'),\n Text(33.14851485148515, 47.83680000000001, 'entropy = 0.0\\nsamples = 1\\nvalue = [0, 1]'),\n Text(39.77821782178218, 47.83680000000001, 'X[10] <= 13.5\\nentropy = 0.89\\nsamples = 13\\nvalue = [9, 4]'),\n Text(36.46336633663367, 39.13920000000002, 'X[5] <= 2.5\\nentropy = 0.811\\nsamples = 12\\nvalue = [9, 3]'),\n Text(29.833663366336637, 30.441599999999994, 'X[15] <= 3.0\\nentropy = 0.544\\nsamples = 8\\nvalue = [7, 1]'),\n Text(26.51881188118812, 21.744, 'X[11] <= 6.0\\nentropy = 0.918\\nsamples = 3\\nvalue = [2, 1]'),\n Text(23.203960396039605, 13.046400000000006, 'entropy = 0.0\\nsamples = 2\\nvalue = [2, 0]'),\n Text(29.833663366336637, 13.046400000000006, 'entropy = 0.0\\nsamples = 1\\nvalue = [0, 1]'),\n Text(33.14851485148515, 21.744, 'entropy = 0.0\\nsamples = 5\\nvalue = [5, 0]'),\n Text(43.093069306930694, 30.441599999999994, 'X[5] <= 3.5\\nentropy = 1.0\\nsamples = 4\\nvalue = [2, 2]'),\n Text(39.77821782178218, 21.744, 'X[11] <= 6.0\\nentropy = 0.918\\nsamples = 3\\nvalue = [1, 2]'),\n Text(36.46336633663367, 13.046400000000006, 'entropy = 1.0\\nsamples = 2\\nvalue = [1, 1]'),\n Text(43.093069306930694, 13.046400000000006, 'entropy = 0.0\\nsamples = 1\\nvalue = [0, 1]'),\n Text(46.40792079207921, 21.744, 'entropy = 0.0\\nsamples = 1\\nvalue = [1, 0]'),\n Text(43.093069306930694, 39.13920000000002, 'entropy = 0.0\\nsamples = 1\\nvalue = [0, 1]'),\n Text(43.093069306930694, 56.534400000000005, 'entropy = 0.0\\nsamples = 2\\nvalue = [0, 2]'),\n Text(46.40792079207921, 65.232, 'entropy = 0.0\\nsamples = 2\\nvalue = [0, 2]'),\n Text(69.61188118811882, 73.9296, 'X[12] <= 175.0\\nentropy = 0.722\\nsamples = 25\\nvalue = [20, 5]'),\n Text(66.2970297029703, 65.232, 'X[9] <= 52.5\\nentropy = 0.852\\nsamples = 18\\nvalue = [13, 5]'),\n Text(62.98217821782179, 56.534400000000005, 'X[12] <= 31.5\\nentropy = 0.787\\nsamples = 17\\nvalue = [13, 4]'),\n Text(59.667326732673274, 47.83680000000001, 'X[10] <= 8.5\\nentropy = 0.918\\nsamples = 12\\nvalue = [8, 4]'),\n Text(53.03762376237624, 39.13920000000002, 'X[9] <= 45.0\\nentropy = 0.918\\nsamples = 3\\nvalue = [1, 2]'),\n Text(49.722772277227726, 30.441599999999994, 'entropy = 0.0\\nsamples = 2\\nvalue = [0, 2]'),\n Text(56.35247524752476, 30.441599999999994, 'entropy = 0.0\\nsamples = 1\\nvalue = [1, 0]'),\n Text(66.2970297029703, 39.13920000000002, 'X[9] <= 45.0\\nentropy = 0.764\\nsamples = 9\\nvalue = [7, 2]'),\n Text(62.98217821782179, 30.441599999999994, 'X[11] <= 6.0\\nentropy = 0.544\\nsamples = 8\\nvalue = [7, 1]'),\n Text(59.667326732673274, 21.744, 'X[10] <= 11.5\\nentropy = 0.811\\nsamples = 4\\nvalue = [3, 1]'),\n Text(56.35247524752476, 13.046400000000006, 'entropy = 0.0\\nsamples = 1\\nvalue = [1, 0]'),\n Text(62.98217821782179, 13.046400000000006, 'X[5] <= 8.5\\nentropy = 0.918\\nsamples = 3\\nvalue = [2, 1]'),\n Text(59.667326732673274, 4.348800000000011, 'entropy = 1.0\\nsamples = 2\\nvalue = [1, 1]'),\n Text(66.2970297029703, 4.348800000000011, 'entropy = 0.0\\nsamples = 1\\nvalue = [1, 0]'),\n Text(66.2970297029703, 21.744, 'entropy = 0.0\\nsamples = 4\\nvalue = [4, 0]'),\n Text(69.61188118811882, 30.441599999999994, 'entropy = 0.0\\nsamples = 1\\nvalue = [0, 1]'),\n Text(66.2970297029703, 47.83680000000001, 'entropy = 0.0\\nsamples = 5\\nvalue = [5, 0]'),\n Text(69.61188118811882, 56.534400000000005, 'entropy = 0.0\\nsamples = 1\\nvalue = [0, 1]'),\n Text(72.92673267326734, 65.232, 'entropy = 0.0\\nsamples = 7\\nvalue = [7, 0]'),\n Text(48.06534653465347, 108.72, 'X[15] <= 3.0\\nentropy = 0.811\\nsamples = 4\\nvalue = [1, 3]'),\n Text(44.750495049504956, 100.0224, 'entropy = 0.0\\nsamples = 2\\nvalue = [0, 2]'),\n Text(51.38019801980199, 100.0224, 'X[9] <= 47.5\\nentropy = 1.0\\nsamples = 2\\nvalue = [1, 1]'),\n Text(48.06534653465347, 91.32480000000001, 'entropy = 0.0\\nsamples = 1\\nvalue = [0, 1]'),\n Text(54.6950495049505, 91.32480000000001, 'entropy = 0.0\\nsamples = 1\\nvalue = [1, 0]'),\n Text(64.63960396039604, 117.41760000000001, 'X[5] <= 3.5\\nentropy = 0.503\\nsamples = 9\\nvalue = [8, 1]'),\n Text(61.32475247524753, 108.72, 'X[11] <= 6.0\\nentropy = 1.0\\nsamples = 2\\nvalue = [1, 1]'),\n Text(58.00990099009901, 100.0224, 'entropy = 0.0\\nsamples = 1\\nvalue = [1, 0]'),\n Text(64.63960396039604, 100.0224, 'entropy = 0.0\\nsamples = 1\\nvalue = [0, 1]'),\n Text(67.95445544554455, 108.72, 'entropy = 0.0\\nsamples = 7\\nvalue = [7, 0]'),\n Text(96.13069306930694, 126.1152, 'X[9] <= 62.5\\nentropy = 0.61\\nsamples = 20\\nvalue = [17, 3]'),\n Text(92.81584158415842, 117.41760000000001, 'X[12] <= 26.0\\nentropy = 0.485\\nsamples = 19\\nvalue = [17, 2]'),\n Text(89.50099009900991, 108.72, 'X[5] <= 6.5\\nentropy = 0.722\\nsamples = 10\\nvalue = [8, 2]'),\n Text(86.18613861386139, 100.0224, 'X[7] <= 1203.5\\nentropy = 0.811\\nsamples = 8\\nvalue = [6, 2]'),\n Text(82.87128712871288, 91.32480000000001, 'X[9] <= 42.5\\nentropy = 0.918\\nsamples = 6\\nvalue = [4, 2]'),\n Text(79.55643564356436, 82.62720000000002, 'X[11] <= 6.0\\nentropy = 0.971\\nsamples = 5\\nvalue = [3, 2]'),\n Text(76.24158415841585, 73.9296, 'entropy = 0.0\\nsamples = 1\\nvalue = [1, 0]'),\n Text(82.87128712871288, 73.9296, 'X[5] <= 2.5\\nentropy = 1.0\\nsamples = 4\\nvalue = [2, 2]'),\n Text(79.55643564356436, 65.232, 'entropy = 0.0\\nsamples = 1\\nvalue = [0, 1]'),\n Text(86.18613861386139, 65.232, 'X[5] <= 4.5\\nentropy = 0.918\\nsamples = 3\\nvalue = [2, 1]'),\n Text(82.87128712871288, 56.534400000000005, 'entropy = 0.0\\nsamples = 1\\nvalue = [1, 0]'),\n Text(89.50099009900991, 56.534400000000005, 'entropy = 1.0\\nsamples = 2\\nvalue = [1, 1]'),\n Text(86.18613861386139, 82.62720000000002, 'entropy = 0.0\\nsamples = 1\\nvalue = [1, 0]'),\n Text(89.50099009900991, 91.32480000000001, 'entropy = 0.0\\nsamples = 2\\nvalue = [2, 0]'),\n Text(92.81584158415842, 100.0224, 'entropy = 0.0\\nsamples = 2\\nvalue = [2, 0]'),\n Text(96.13069306930694, 108.72, 'entropy = 0.0\\nsamples = 9\\nvalue = [9, 0]'),\n Text(99.44554455445545, 117.41760000000001, 'entropy = 0.0\\nsamples = 1\\nvalue = [0, 1]'),\n Text(112.70495049504952, 134.81279999999998, 'X[1] <= 2.5\\nentropy = 1.0\\nsamples = 28\\nvalue = [14, 14]'),\n Text(109.390099009901, 126.1152, 'X[5] <= 1.0\\nentropy = 0.99\\nsamples = 25\\nvalue = [11, 14]'),\n Text(106.07524752475248, 117.41760000000001, 'entropy = 0.0\\nsamples = 3\\nvalue = [0, 3]'),\n Text(112.70495049504952, 117.41760000000001, 'X[9] <= 58.0\\nentropy = 1.0\\nsamples = 22\\nvalue = [11, 11]'),\n Text(109.390099009901, 108.72, 'X[1] <= 0.5\\nentropy = 0.993\\nsamples = 20\\nvalue = [9, 11]'),\n Text(106.07524752475248, 100.0224, 'entropy = 0.0\\nsamples = 2\\nvalue = [2, 0]'),\n Text(112.70495049504952, 100.0224, 'X[10] <= 14.5\\nentropy = 0.964\\nsamples = 18\\nvalue = [7, 11]'),\n Text(109.390099009901, 91.32480000000001, 'X[13] <= 3.5\\nentropy = 1.0\\nsamples = 14\\nvalue = [7, 7]'),\n Text(106.07524752475248, 82.62720000000002, 'X[5] <= 11.0\\nentropy = 0.98\\nsamples = 12\\nvalue = [7, 5]'),\n Text(102.76039603960398, 73.9296, 'X[10] <= 3.5\\nentropy = 0.991\\nsamples = 9\\nvalue = [4, 5]'),\n Text(99.44554455445545, 65.232, 'entropy = 0.0\\nsamples = 1\\nvalue = [1, 0]'),\n Text(106.07524752475248, 65.232, 'X[5] <= 7.5\\nentropy = 0.954\\nsamples = 8\\nvalue = [3, 5]'),\n Text(102.76039603960398, 56.534400000000005, 'X[9] <= 44.0\\nentropy = 1.0\\nsamples = 6\\nvalue = [3, 3]'),\n Text(99.44554455445545, 47.83680000000001, 'entropy = 0.0\\nsamples = 2\\nvalue = [2, 0]'),\n Text(106.07524752475248, 47.83680000000001, 'X[5] <= 4.5\\nentropy = 0.811\\nsamples = 4\\nvalue = [1, 3]'),\n Text(102.76039603960398, 39.13920000000002, 'entropy = 0.0\\nsamples = 3\\nvalue = [0, 3]'),\n Text(109.390099009901, 39.13920000000002, 'entropy = 0.0\\nsamples = 1\\nvalue = [1, 0]'),\n Text(109.390099009901, 56.534400000000005, 'entropy = 0.0\\nsamples = 2\\nvalue = [0, 2]'),\n Text(109.390099009901, 73.9296, 'entropy = 0.0\\nsamples = 3\\nvalue = [3, 0]'),\n Text(112.70495049504952, 82.62720000000002, 'entropy = 0.0\\nsamples = 2\\nvalue = [0, 2]'),\n Text(116.01980198019803, 91.32480000000001, 'entropy = 0.0\\nsamples = 4\\nvalue = [0, 4]'),\n Text(116.01980198019803, 108.72, 'entropy = 0.0\\nsamples = 2\\nvalue = [2, 0]'),\n Text(116.01980198019803, 126.1152, 'entropy = 0.0\\nsamples = 3\\nvalue = [3, 0]'),\n Text(129.2792079207921, 152.208, 'X[10] <= 14.5\\nentropy = 0.619\\nsamples = 26\\nvalue = [22, 4]'),\n Text(122.64950495049506, 143.5104, 'X[3] <= 10.5\\nentropy = 0.31\\nsamples = 18\\nvalue = [17, 1]'),\n Text(119.33465346534655, 134.81279999999998, 'entropy = 0.0\\nsamples = 16\\nvalue = [16, 0]'),\n Text(125.96435643564358, 134.81279999999998, 'X[1] <= 4.5\\nentropy = 1.0\\nsamples = 2\\nvalue = [1, 1]'),\n Text(122.64950495049506, 126.1152, 'entropy = 0.0\\nsamples = 1\\nvalue = [1, 0]'),\n Text(129.2792079207921, 126.1152, 'entropy = 0.0\\nsamples = 1\\nvalue = [0, 1]'),\n Text(135.9089108910891, 143.5104, 'X[15] <= 3.0\\nentropy = 0.954\\nsamples = 8\\nvalue = [5, 3]'),\n Text(132.5940594059406, 134.81279999999998, 'entropy = 0.0\\nsamples = 2\\nvalue = [0, 2]'),\n Text(139.22376237623763, 134.81279999999998, 'X[5] <= 2.5\\nentropy = 0.65\\nsamples = 6\\nvalue = [5, 1]'),\n Text(135.9089108910891, 126.1152, 'X[3] <= 7.5\\nentropy = 1.0\\nsamples = 2\\nvalue = [1, 1]'),\n Text(132.5940594059406, 117.41760000000001, 'entropy = 0.0\\nsamples = 1\\nvalue = [1, 0]'),\n Text(139.22376237623763, 117.41760000000001, 'entropy = 0.0\\nsamples = 1\\nvalue = [0, 1]'),\n Text(142.53861386138615, 126.1152, 'entropy = 0.0\\nsamples = 4\\nvalue = [4, 0]'),\n Text(110.25765779702971, 160.9056, 'entropy = 0.0\\nsamples = 2\\nvalue = [0, 2]'),\n Text(116.88736076732674, 178.3008, 'X[1] <= 1.0\\nentropy = 0.592\\nsamples = 7\\nvalue = [1, 6]'),\n Text(113.57250928217823, 169.60320000000002, 'entropy = 0.0\\nsamples = 1\\nvalue = [1, 0]'),\n Text(120.20221225247526, 169.60320000000002, 'entropy = 0.0\\nsamples = 6\\nvalue = [0, 6]'),\n Text(192.67574257425744, 186.9984, 'X[9] <= 69.5\\nentropy = 0.835\\nsamples = 79\\nvalue = [21, 58]'),\n Text(189.36089108910892, 178.3008, 'X[8] <= 1760.0\\nentropy = 0.79\\nsamples = 76\\nvalue = [18, 58]'),\n Text(186.04603960396042, 169.60320000000002, 'X[14] <= 1.5\\nentropy = 0.84\\nsamples = 67\\nvalue = [18, 49]'),\n Text(176.51584158415844, 160.9056, 'X[12] <= 181.0\\nentropy = 0.792\\nsamples = 63\\nvalue = [15, 48]'),\n Text(167.4, 152.208, 'X[3] <= 14.5\\nentropy = 0.871\\nsamples = 48\\nvalue = [14, 34]'),\n Text(164.0851485148515, 143.5104, 'X[5] <= 9.5\\nentropy = 0.91\\nsamples = 43\\nvalue = [14, 29]'),\n Text(155.79801980198022, 134.81279999999998, 'X[5] <= 3.5\\nentropy = 0.96\\nsamples = 34\\nvalue = [13, 21]'),\n Text(149.16831683168317, 126.1152, 'X[13] <= 3.5\\nentropy = 0.787\\nsamples = 17\\nvalue = [4, 13]'),\n Text(145.85346534653468, 117.41760000000001, 'X[2] <= 10.5\\nentropy = 0.696\\nsamples = 16\\nvalue = [3, 13]'),\n Text(142.53861386138615, 108.72, 'X[9] <= 42.5\\nentropy = 0.881\\nsamples = 10\\nvalue = [3, 7]'),\n Text(139.22376237623763, 100.0224, 'X[5] <= 2.5\\nentropy = 0.985\\nsamples = 7\\nvalue = [3, 4]'),\n Text(135.9089108910891, 91.32480000000001, 'entropy = 0.0\\nsamples = 2\\nvalue = [0, 2]'),\n Text(142.53861386138615, 91.32480000000001, 'X[10] <= 10.0\\nentropy = 0.971\\nsamples = 5\\nvalue = [3, 2]'),\n Text(139.22376237623763, 82.62720000000002, 'entropy = 0.0\\nsamples = 2\\nvalue = [2, 0]'),\n Text(145.85346534653468, 82.62720000000002, 'X[10] <= 56.0\\nentropy = 0.918\\nsamples = 3\\nvalue = [1, 2]'),\n Text(142.53861386138615, 73.9296, 'entropy = 0.0\\nsamples = 1\\nvalue = [0, 1]'),\n Text(149.16831683168317, 73.9296, 'entropy = 1.0\\nsamples = 2\\nvalue = [1, 1]'),\n Text(145.85346534653468, 100.0224, 'entropy = 0.0\\nsamples = 3\\nvalue = [0, 3]'),\n Text(149.16831683168317, 108.72, 'entropy = 0.0\\nsamples = 6\\nvalue = [0, 6]'),\n Text(152.4831683168317, 117.41760000000001, 'entropy = 0.0\\nsamples = 1\\nvalue = [1, 0]'),\n Text(162.42772277227724, 126.1152, 'X[5] <= 8.0\\nentropy = 0.998\\nsamples = 17\\nvalue = [9, 8]'),\n Text(159.1128712871287, 117.41760000000001, 'entropy = 0.0\\nsamples = 2\\nvalue = [2, 0]'),\n Text(165.74257425742576, 117.41760000000001, 'X[11] <= 6.0\\nentropy = 0.997\\nsamples = 15\\nvalue = [7, 8]'),\n Text(162.42772277227724, 108.72, 'entropy = 0.0\\nsamples = 2\\nvalue = [2, 0]'),\n Text(169.05742574257428, 108.72, 'X[15] <= 3.5\\nentropy = 0.961\\nsamples = 13\\nvalue = [5, 8]'),\n Text(165.74257425742576, 100.0224, 'entropy = 0.0\\nsamples = 2\\nvalue = [0, 2]'),\n Text(172.37227722772278, 100.0224, 'X[10] <= 10.0\\nentropy = 0.994\\nsamples = 11\\nvalue = [5, 6]'),\n Text(165.74257425742576, 91.32480000000001, 'X[1] <= 1.5\\nentropy = 0.722\\nsamples = 5\\nvalue = [1, 4]'),\n Text(162.42772277227724, 82.62720000000002, 'X[2] <= 10.5\\nentropy = 1.0\\nsamples = 2\\nvalue = [1, 1]'),\n Text(159.1128712871287, 73.9296, 'entropy = 0.0\\nsamples = 1\\nvalue = [1, 0]'),\n Text(165.74257425742576, 73.9296, 'entropy = 0.0\\nsamples = 1\\nvalue = [0, 1]'),\n Text(169.05742574257428, 82.62720000000002, 'entropy = 0.0\\nsamples = 3\\nvalue = [0, 3]'),\n Text(179.00198019801982, 91.32480000000001, 'X[9] <= 40.5\\nentropy = 0.918\\nsamples = 6\\nvalue = [4, 2]'),\n Text(175.6871287128713, 82.62720000000002, 'X[2] <= 10.5\\nentropy = 1.0\\nsamples = 4\\nvalue = [2, 2]'),\n Text(172.37227722772278, 73.9296, 'X[10] <= 56.0\\nentropy = 0.918\\nsamples = 3\\nvalue = [1, 2]'),\n Text(169.05742574257428, 65.232, 'entropy = 0.0\\nsamples = 2\\nvalue = [0, 2]'),\n Text(175.6871287128713, 65.232, 'entropy = 0.0\\nsamples = 1\\nvalue = [1, 0]'),\n Text(179.00198019801982, 73.9296, 'entropy = 0.0\\nsamples = 1\\nvalue = [1, 0]'),\n Text(182.31683168316835, 82.62720000000002, 'entropy = 0.0\\nsamples = 2\\nvalue = [2, 0]'),\n Text(172.37227722772278, 134.81279999999998, 'X[10] <= 4.5\\nentropy = 0.503\\nsamples = 9\\nvalue = [1, 8]'),\n Text(169.05742574257428, 126.1152, 'entropy = 0.0\\nsamples = 1\\nvalue = [1, 0]'),\n Text(175.6871287128713, 126.1152, 'entropy = 0.0\\nsamples = 8\\nvalue = [0, 8]'),\n Text(170.71485148514853, 143.5104, 'entropy = 0.0\\nsamples = 5\\nvalue = [0, 5]'),\n Text(185.63168316831684, 152.208, 'X[5] <= 9.5\\nentropy = 0.353\\nsamples = 15\\nvalue = [1, 14]'),\n Text(182.31683168316835, 143.5104, 'entropy = 0.0\\nsamples = 10\\nvalue = [0, 10]'),\n Text(188.94653465346536, 143.5104, 'X[5] <= 10.5\\nentropy = 0.722\\nsamples = 5\\nvalue = [1, 4]'),\n Text(185.63168316831684, 134.81279999999998, 'X[1] <= 1.5\\nentropy = 1.0\\nsamples = 2\\nvalue = [1, 1]'),\n Text(182.31683168316835, 126.1152, 'entropy = 0.0\\nsamples = 1\\nvalue = [0, 1]'),\n Text(188.94653465346536, 126.1152, 'entropy = 0.0\\nsamples = 1\\nvalue = [1, 0]'),\n Text(192.2613861386139, 134.81279999999998, 'entropy = 0.0\\nsamples = 3\\nvalue = [0, 3]'),\n Text(195.57623762376238, 160.9056, 'X[5] <= 11.5\\nentropy = 0.811\\nsamples = 4\\nvalue = [3, 1]'),\n Text(192.2613861386139, 152.208, 'entropy = 0.0\\nsamples = 3\\nvalue = [3, 0]'),\n Text(198.8910891089109, 152.208, 'entropy = 0.0\\nsamples = 1\\nvalue = [0, 1]'),\n Text(192.67574257425744, 169.60320000000002, 'entropy = 0.0\\nsamples = 9\\nvalue = [0, 9]'),\n Text(195.99059405940596, 178.3008, 'entropy = 0.0\\nsamples = 3\\nvalue = [3, 0]'),\n Text(158.0964031559406, 195.696, 'entropy = 0.0\\nsamples = 25\\nvalue = [0, 25]'),\n Text(276.5829207920792, 204.3936, 'X[3] <= 11.5\\nentropy = 0.513\\nsamples = 411\\nvalue = [364, 47]'),\n Text(234.52574257425744, 195.696, 'X[6] <= 4.5\\nentropy = 0.28\\nsamples = 310\\nvalue = [295, 15]'),\n Text(220.43762376237626, 186.9984, 'X[9] <= 40.5\\nentropy = 0.187\\nsamples = 281\\nvalue = [273, 8]'),\n Text(208.83564356435645, 178.3008, 'X[7] <= 7731.5\\nentropy = 0.073\\nsamples = 225\\nvalue = [223, 2]'),\n Text(205.52079207920795, 169.60320000000002, 'X[8] <= 2116.0\\nentropy = 0.041\\nsamples = 224\\nvalue = [223, 1]'),\n Text(202.20594059405943, 160.9056, 'entropy = 0.0\\nsamples = 222\\nvalue = [222, 0]'),\n Text(208.83564356435645, 160.9056, 'X[5] <= 9.5\\nentropy = 1.0\\nsamples = 2\\nvalue = [1, 1]'),\n Text(205.52079207920795, 152.208, 'entropy = 0.0\\nsamples = 1\\nvalue = [0, 1]'),\n Text(212.15049504950497, 152.208, 'entropy = 0.0\\nsamples = 1\\nvalue = [1, 0]'),\n Text(212.15049504950497, 169.60320000000002, 'entropy = 0.0\\nsamples = 1\\nvalue = [0, 1]'),\n Text(232.03960396039605, 178.3008, 'X[9] <= 55.5\\nentropy = 0.491\\nsamples = 56\\nvalue = [50, 6]'),\n Text(228.72475247524756, 169.60320000000002, 'X[1] <= 3.5\\nentropy = 0.619\\nsamples = 39\\nvalue = [33, 6]'),\n Text(222.0950495049505, 160.9056, 'X[9] <= 41.5\\nentropy = 0.503\\nsamples = 36\\nvalue = [32, 4]'),\n Text(218.780198019802, 152.208, 'entropy = 0.0\\nsamples = 1\\nvalue = [0, 1]'),\n Text(225.40990099009903, 152.208, 'X[7] <= 4668.5\\nentropy = 0.422\\nsamples = 35\\nvalue = [32, 3]'),\n Text(222.0950495049505, 143.5104, 'X[11] <= 4.0\\nentropy = 0.323\\nsamples = 34\\nvalue = [32, 2]'),\n Text(218.780198019802, 134.81279999999998, 'entropy = 0.0\\nsamples = 1\\nvalue = [0, 1]'),\n Text(225.40990099009903, 134.81279999999998, 'X[5] <= 2.5\\nentropy = 0.196\\nsamples = 33\\nvalue = [32, 1]'),\n Text(222.0950495049505, 126.1152, 'X[11] <= 6.0\\nentropy = 0.65\\nsamples = 6\\nvalue = [5, 1]'),\n Text(218.780198019802, 117.41760000000001, 'X[10] <= 14.5\\nentropy = 1.0\\nsamples = 2\\nvalue = [1, 1]'),\n Text(215.4653465346535, 108.72, 'entropy = 0.0\\nsamples = 1\\nvalue = [1, 0]'),\n Text(222.0950495049505, 108.72, 'entropy = 0.0\\nsamples = 1\\nvalue = [0, 1]'),\n Text(225.40990099009903, 117.41760000000001, 'entropy = 0.0\\nsamples = 4\\nvalue = [4, 0]'),\n Text(228.72475247524756, 126.1152, 'entropy = 0.0\\nsamples = 27\\nvalue = [27, 0]'),\n Text(228.72475247524756, 143.5104, 'entropy = 0.0\\nsamples = 1\\nvalue = [0, 1]'),\n Text(235.35445544554457, 160.9056, 'X[10] <= 15.0\\nentropy = 0.918\\nsamples = 3\\nvalue = [1, 2]'),\n Text(232.03960396039605, 152.208, 'entropy = 0.0\\nsamples = 1\\nvalue = [1, 0]'),\n Text(238.6693069306931, 152.208, 'entropy = 0.0\\nsamples = 2\\nvalue = [0, 2]'),\n Text(235.35445544554457, 169.60320000000002, 'entropy = 0.0\\nsamples = 17\\nvalue = [17, 0]'),\n Text(248.61386138613864, 186.9984, 'X[11] <= 4.0\\nentropy = 0.797\\nsamples = 29\\nvalue = [22, 7]'),\n Text(245.29900990099011, 178.3008, 'entropy = 0.0\\nsamples = 2\\nvalue = [0, 2]'),\n Text(251.92871287128716, 178.3008, 'X[3] <= 9.5\\nentropy = 0.691\\nsamples = 27\\nvalue = [22, 5]'),\n Text(245.29900990099011, 169.60320000000002, 'X[8] <= 988.5\\nentropy = 0.323\\nsamples = 17\\nvalue = [16, 1]'),\n Text(241.9841584158416, 160.9056, 'entropy = 0.0\\nsamples = 16\\nvalue = [16, 0]'),\n Text(248.61386138613864, 160.9056, 'entropy = 0.0\\nsamples = 1\\nvalue = [0, 1]'),\n Text(258.5584158415842, 169.60320000000002, 'X[11] <= 6.5\\nentropy = 0.971\\nsamples = 10\\nvalue = [6, 4]'),\n Text(255.24356435643566, 160.9056, 'entropy = 0.0\\nsamples = 3\\nvalue = [3, 0]'),\n Text(261.8732673267327, 160.9056, 'X[5] <= 6.0\\nentropy = 0.985\\nsamples = 7\\nvalue = [3, 4]'),\n Text(258.5584158415842, 152.208, 'X[9] <= 55.0\\nentropy = 0.811\\nsamples = 4\\nvalue = [3, 1]'),\n Text(255.24356435643566, 143.5104, 'X[10] <= 56.0\\nentropy = 1.0\\nsamples = 2\\nvalue = [1, 1]'),\n Text(251.92871287128716, 134.81279999999998, 'entropy = 0.0\\nsamples = 1\\nvalue = [0, 1]'),\n Text(258.5584158415842, 134.81279999999998, 'entropy = 0.0\\nsamples = 1\\nvalue = [1, 0]'),\n Text(261.8732673267327, 143.5104, 'entropy = 0.0\\nsamples = 2\\nvalue = [2, 0]'),\n Text(265.1881188118812, 152.208, 'entropy = 0.0\\nsamples = 3\\nvalue = [0, 3]'),\n Text(318.640099009901, 195.696, 'X[7] <= 5246.5\\nentropy = 0.901\\nsamples = 101\\nvalue = [69, 32]'),\n Text(315.3252475247525, 186.9984, 'X[6] <= 4.5\\nentropy = 0.847\\nsamples = 95\\nvalue = [69, 26]'),\n Text(302.480198019802, 178.3008, 'X[8] <= 2114.0\\nentropy = 0.745\\nsamples = 85\\nvalue = [67, 18]'),\n Text(299.1653465346535, 169.60320000000002, 'X[10] <= 57.5\\nentropy = 0.686\\nsamples = 82\\nvalue = [67, 15]'),\n Text(283.41980198019803, 160.9056, 'X[9] <= 47.5\\nentropy = 0.518\\nsamples = 69\\nvalue = [61, 8]'),\n Text(271.8178217821782, 152.208, 'X[5] <= 8.5\\nentropy = 0.362\\nsamples = 58\\nvalue = [54, 4]'),\n Text(268.5029702970297, 143.5104, 'entropy = 0.0\\nsamples = 29\\nvalue = [29, 0]'),\n Text(275.13267326732677, 143.5104, 'X[3] <= 15.0\\nentropy = 0.579\\nsamples = 29\\nvalue = [25, 4]'),\n Text(271.8178217821782, 134.81279999999998, 'X[5] <= 10.0\\nentropy = 0.491\\nsamples = 28\\nvalue = [25, 3]'),\n Text(268.5029702970297, 126.1152, 'X[12] <= 64.0\\nentropy = 0.672\\nsamples = 17\\nvalue = [14, 3]'),\n Text(265.1881188118812, 117.41760000000001, 'X[6] <= 2.0\\nentropy = 0.845\\nsamples = 11\\nvalue = [8, 3]'),\n Text(261.8732673267327, 108.72, 'X[9] <= 27.5\\nentropy = 0.954\\nsamples = 8\\nvalue = [5, 3]'),\n Text(258.5584158415842, 100.0224, 'entropy = 0.0\\nsamples = 2\\nvalue = [2, 0]'),\n Text(265.1881188118812, 100.0224, 'X[1] <= 3.5\\nentropy = 1.0\\nsamples = 6\\nvalue = [3, 3]'),\n Text(261.8732673267327, 91.32480000000001, 'X[1] <= 1.5\\nentropy = 0.971\\nsamples = 5\\nvalue = [3, 2]'),\n Text(258.5584158415842, 82.62720000000002, 'X[9] <= 42.5\\nentropy = 0.918\\nsamples = 3\\nvalue = [1, 2]'),\n Text(255.24356435643566, 73.9296, 'entropy = 0.0\\nsamples = 2\\nvalue = [0, 2]'),\n Text(261.8732673267327, 73.9296, 'entropy = 0.0\\nsamples = 1\\nvalue = [1, 0]'),\n Text(265.1881188118812, 82.62720000000002, 'entropy = 0.0\\nsamples = 2\\nvalue = [2, 0]'),\n Text(268.5029702970297, 91.32480000000001, 'entropy = 0.0\\nsamples = 1\\nvalue = [0, 1]'),\n Text(268.5029702970297, 108.72, 'entropy = 0.0\\nsamples = 3\\nvalue = [3, 0]'),\n Text(271.8178217821782, 117.41760000000001, 'entropy = 0.0\\nsamples = 6\\nvalue = [6, 0]'),\n Text(275.13267326732677, 126.1152, 'entropy = 0.0\\nsamples = 11\\nvalue = [11, 0]'),\n Text(278.44752475247526, 134.81279999999998, 'entropy = 0.0\\nsamples = 1\\nvalue = [0, 1]'),\n Text(295.02178217821785, 152.208, 'X[10] <= 10.0\\nentropy = 0.946\\nsamples = 11\\nvalue = [7, 4]'),\n Text(288.3920792079208, 143.5104, 'X[5] <= 6.0\\nentropy = 0.971\\nsamples = 5\\nvalue = [2, 3]'),\n Text(285.0772277227723, 134.81279999999998, 'entropy = 0.0\\nsamples = 2\\nvalue = [2, 0]'),\n Text(291.70693069306935, 134.81279999999998, 'entropy = 0.0\\nsamples = 3\\nvalue = [0, 3]'),\n Text(301.6514851485149, 143.5104, 'X[5] <= 6.0\\nentropy = 0.65\\nsamples = 6\\nvalue = [5, 1]'),\n Text(298.33663366336634, 134.81279999999998, 'entropy = 0.0\\nsamples = 1\\nvalue = [0, 1]'),\n Text(304.9663366336634, 134.81279999999998, 'entropy = 0.0\\nsamples = 5\\nvalue = [5, 0]'),\n Text(314.91089108910893, 160.9056, 'X[13] <= 3.5\\nentropy = 0.996\\nsamples = 13\\nvalue = [6, 7]'),\n Text(311.59603960396043, 152.208, 'X[6] <= 2.5\\nentropy = 0.881\\nsamples = 10\\nvalue = [3, 7]'),\n Text(308.2811881188119, 143.5104, 'entropy = 0.0\\nsamples = 5\\nvalue = [0, 5]'),\n Text(314.91089108910893, 143.5104, 'X[5] <= 4.0\\nentropy = 0.971\\nsamples = 5\\nvalue = [3, 2]'),\n Text(311.59603960396043, 134.81279999999998, 'entropy = 0.0\\nsamples = 2\\nvalue = [0, 2]'),\n Text(318.2257425742574, 134.81279999999998, 'entropy = 0.0\\nsamples = 3\\nvalue = [3, 0]'),\n Text(318.2257425742574, 152.208, 'entropy = 0.0\\nsamples = 3\\nvalue = [3, 0]'),\n Text(305.7950495049505, 169.60320000000002, 'entropy = 0.0\\nsamples = 3\\nvalue = [0, 3]'),\n Text(328.170297029703, 178.3008, 'X[12] <= 190.0\\nentropy = 0.722\\nsamples = 10\\nvalue = [2, 8]'),\n Text(324.85544554455447, 169.60320000000002, 'X[10] <= 56.0\\nentropy = 0.503\\nsamples = 9\\nvalue = [1, 8]'),\n Text(321.540594059406, 160.9056, 'entropy = 0.0\\nsamples = 6\\nvalue = [0, 6]'),\n Text(328.170297029703, 160.9056, 'X[5] <= 8.0\\nentropy = 0.918\\nsamples = 3\\nvalue = [1, 2]'),\n Text(324.85544554455447, 152.208, 'entropy = 0.0\\nsamples = 1\\nvalue = [1, 0]'),\n Text(331.4851485148515, 152.208, 'entropy = 0.0\\nsamples = 2\\nvalue = [0, 2]'),\n Text(331.4851485148515, 169.60320000000002, 'entropy = 0.0\\nsamples = 1\\nvalue = [1, 0]'),\n Text(321.95495049504956, 186.9984, 'entropy = 0.0\\nsamples = 6\\nvalue = [0, 6]')]"
     },
     "execution_count": 79,
     "metadata": {},
     "output_type": "execute_result"
    },
    {
     "data": {
      "text/plain": "<Figure size 432x288 with 1 Axes>",
      "image/png": "[encoded data removed]"
     },
     "metadata": {
      "needs_background": "light"
     },
     "output_type": "display_data"
    }
   ],
   "source": [
    "from sklearn import tree\n",
    "from sklearn.tree import DecisionTreeClassifier\n",
    "\n",
    "# create model\n",
    "model_tree = DecisionTreeClassifier(criterion='entropy')\n",
    "# training model\n",
    "model_tree.fit(X_train, y_train)\n",
    "# show tree\n",
    "tree.plot_tree(model_tree)"
   ],
   "metadata": {
    "collapsed": false,
    "pycharm": {
     "name": "#%%\n"
    }
   }
  },
  {
   "cell_type": "code",
   "execution_count": 80,
   "outputs": [
    {
     "data": {
      "text/plain": "0.8"
     },
     "execution_count": 80,
     "metadata": {},
     "output_type": "execute_result"
    }
   ],
   "source": [
    "# Predict Model\n",
    "pred_tree = model_tree.predict(X_test)\n",
    "\n",
    "# Evaluate using dataset\n",
    "accuracy = (pred_tree == y_test).sum()/len(y_test)\n",
    "accuracy"
   ],
   "metadata": {
    "collapsed": false,
    "pycharm": {
     "name": "#%%\n"
    }
   }
  },
  {
   "cell_type": "code",
   "execution_count": 72,
   "outputs": [],
   "source": [],
   "metadata": {
    "collapsed": false,
    "pycharm": {
     "name": "#%%\n"
    }
   }
  }
 ],
 "metadata": {
  "kernelspec": {
   "display_name": "Python 3",
   "language": "python",
   "name": "python3"
  },
  "language_info": {
   "codemirror_mode": {
    "name": "ipython",
    "version": 2
   },
   "file_extension": ".py",
   "mimetype": "text/x-python",
   "name": "python",
   "nbconvert_exporter": "python",
   "pygments_lexer": "ipython2",
   "version": "2.7.6"
  }
 },
 "nbformat": 4,
 "nbformat_minor": 0
}